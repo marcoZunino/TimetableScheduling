{
 "cells": [
  {
   "cell_type": "code",
   "execution_count": 1726,
   "metadata": {},
   "outputs": [],
   "source": [
    "import gurobipy as gp\n",
    "from gurobipy import *\n",
    "from gurobipy import GRB\n",
    "import numpy as np\n",
    "# import scipy.sparse as sp"
   ]
  },
  {
   "cell_type": "markdown",
   "metadata": {},
   "source": [
    "# Classes"
   ]
  },
  {
   "cell_type": "code",
   "execution_count": 1727,
   "metadata": {},
   "outputs": [],
   "source": [
    "class Dia:\n",
    "    def __init__(self, id: int, nombre: str):\n",
    "        self.id = id\n",
    "        self.nombre = nombre\n",
    "\n",
    "    def __str__(self) -> str:\n",
    "        return self.nombre\n",
    "        # return self.id\n",
    "    \n",
    "    def __eq__(self, __value: object) -> bool:\n",
    "        return type(__value) == type(self) and self.nombre == __value.nombre\n",
    " \n",
    "class Horario:\n",
    "    def __init__(self, id: int, inicio: str, fin: str):\n",
    "        self.id = id\n",
    "        self.inicio = inicio\n",
    "        self.fin = fin\n",
    "\n",
    "    def __str__(self) -> str:\n",
    "        return self.inicio + \"-\" + self.fin\n",
    "        # return self.id\n",
    "    \n",
    "    def __eq__(self, __value: object) -> bool:\n",
    "        return type(__value) == type(self) and self.inicio == __value.inicio and self.fin == __value.fin\n",
    "    \n",
    "class BloqueHorario:\n",
    "    def __init__(self, dia: Dia, horario: Horario) -> None:\n",
    "        self.dia = dia\n",
    "        self.horario = horario\n",
    "        \n",
    "    def __str__(self) -> str:\n",
    "        return str(self.dia) + \"_\" + str(self.horario)\n",
    "    \n",
    "    def __eq__(self, __value: object) -> bool:\n",
    "        return type(__value) == type(self) and self.dia == __value.dia and self.horario == __value.horario\n",
    "    \n",
    "    def id(self):\n",
    "        return (self.dia.id, self.horario.id)\n",
    "      \n",
    "# ver disponibilidad\n",
    "class Profesor:\n",
    "    def __init__(self, id: int, nombre: str):\n",
    "        self.id = id\n",
    "        self.nombre = nombre\n",
    "        self.no_disponible = []\n",
    "        self.prioridades = []\n",
    "\n",
    "    def __str__(self) -> str:\n",
    "        return self.nombre\n",
    "    \n",
    "    def __eq__(self, __value: object) -> bool:\n",
    "        return type(__value) == type(self) and self.nombre == __value.nombre\n",
    "    \n",
    "    def disponibilidad(self, bloques_horario):\n",
    "        disp = bloques_horario.copy()\n",
    "        for d in self.no_disponible:\n",
    "            disp.pop((d.dia.id, d.horario.id))\n",
    "        return disp\n",
    "        \n",
    "\n",
    "\n",
    "class Materia:\n",
    "    def __init__(self,\n",
    "                 id: int,\n",
    "                 nombre: str,\n",
    "                 profesor: Profesor=None,\n",
    "                 carga_horaria: int=None,\n",
    "                 cantidad_dias: int=3,\n",
    "                 horas_maximo: int=10,\n",
    "                 horas_minimo: int=0,\n",
    "                 anio: int=None,\n",
    "                 grupo: int=None\n",
    "                 ) -> None:\n",
    "        \n",
    "        self.nombre = nombre\n",
    "        self.id = id\n",
    "        self.carga_horaria = carga_horaria  #C_m\n",
    "        self.profesor = profesor\n",
    "        self.cantidad_dias = cantidad_dias  #D_m\n",
    "        self.horas_maximo = horas_maximo    # Hmax_m\n",
    "        self.horas_minimo = horas_minimo    # Hmin_m\n",
    "        self.anio = anio\n",
    "        self.grupo = grupo\n",
    "        \n",
    "    def __str__(self) -> str:\n",
    "        return self.nombre\n",
    "    \n",
    "    def __eq__(self, __value: object) -> bool:\n",
    "        return type(__value) == type(self) and self.nombre == __value.nombre\n",
    "\n",
    "class Prioridad:\n",
    "    def __init__(self, value: int, profesor: Profesor, bloque_horario: BloqueHorario) -> None:\n",
    "        self.value = value\n",
    "        self.profesor = profesor\n",
    "        self.bloque_horario = bloque_horario\n",
    "    \n",
    "    def __str__(self) -> str:\n",
    "        return str(self.profesor) + \"_\" + str(self.bloque_horario) + \":prioridad=\" + str(self.value)\n",
    "    \n",
    "    def __eq__(self, __value: object) -> bool:\n",
    "        return type(__value) == type(self) and self.profesor == __value.profesor and self.bloque_horario == __value.bloque_horario\n",
    "    \n",
    "    def id(self):\n",
    "        return (self.profesor.id, self.bloque_horario.id())\n"
   ]
  },
  {
   "cell_type": "code",
   "execution_count": 1728,
   "metadata": {},
   "outputs": [],
   "source": [
    "# variables    \n",
    "class u:\n",
    "    def __init__(self, materia: Materia, horario: BloqueHorario) -> None:\n",
    "        self.materia = materia\n",
    "        self.horario = horario\n",
    "        self.variable = None\n",
    "\n",
    "    def __str__(self) -> str:\n",
    "        return \"u_{\" + str(self.materia) + \"_\" + str(self.horario) + \"}\"\n",
    "    \n",
    "    def __eq__(self, __value: object) -> bool:\n",
    "        return type(__value) == type(self) and self.materia == __value.materia and self.horario == __value.horario\n",
    "    \n",
    "class v:\n",
    "    def __init__(self, materia: Materia, dia: Dia) -> None:\n",
    "        self.materia = materia\n",
    "        self.dia = dia\n",
    "        self.variable = None\n",
    "\n",
    "    def __str__(self) -> str:\n",
    "        return \"v_{\" + str(self.materia) + \"_\" + str(self.dia) + \"}\"\n",
    "    \n",
    "    def __eq__(self, __value: object) -> bool:\n",
    "        return type(__value) == type(self) and self.materia == __value.materia and self.dia == __value.dia\n",
    "    \n",
    "class r:\n",
    "    def __init__(self, profesor: Profesor) -> None:\n",
    "        self.profesor = profesor\n",
    "        self.variable = None\n",
    "    \n",
    "    def __str__(self) -> str:\n",
    "        return \"r_{\" + str(self.profesor) + \"}\"\n",
    "    \n",
    "    def __eq__(self, __value: object) -> bool:\n",
    "        return type(__value) == type(self) and self.profesor == __value.profesor   \n",
    "\n"
   ]
  },
  {
   "cell_type": "markdown",
   "metadata": {},
   "source": [
    "# Functions"
   ]
  },
  {
   "cell_type": "code",
   "execution_count": 1729,
   "metadata": {},
   "outputs": [],
   "source": [
    "def update_disp(profesor, bloques_horario, no_disp_index):\n",
    "    for i in no_disp_index:\n",
    "        profesor.no_disponible.append(bloques_horario[i])\n",
    "\n",
    "def update_prioridad(profesor, bloques_horario, array_prioridad):\n",
    "    # array_prioridad[i] = [(d,h),a]\n",
    "    for i in array_prioridad:\n",
    "        prior = Prioridad(i[1], profesor, bloques_horario[i[0]])\n",
    "        if not (prior.bloque_horario in profesor.no_disponible or prior in profesor.prioridades):\n",
    "            profesor.prioridades.append(prior)\n",
    "\n",
    "\n",
    "def print_timetable(dias, horarios, u_dict):\n",
    "    print('\\t', *[str(d) for d in dias], sep='\\t')\n",
    "    for h in horarios:\n",
    "        print(h, *[str(search_materia(BloqueHorario(d,h),u_dict)) for d in dias], sep='\\t')\n",
    "\n",
    "def search_materia(b, u_dict):\n",
    "    for ui in u_dict:\n",
    "        u_ob = u_dict[ui]\n",
    "        if u_ob.horario == b and round(u_ob.variable.x) == 1:\n",
    "            return u_ob.materia\n",
    "        \n",
    "def materias_profesor(profesor, materias_total):\n",
    "    materias = []\n",
    "\n",
    "    for m in materias_total:\n",
    "        if m.profesor == profesor and profesor is not None:\n",
    "            materias.append(m)\n",
    "            \n",
    "    return materias\n",
    "    \n"
   ]
  },
  {
   "cell_type": "markdown",
   "metadata": {},
   "source": [
    "# Formulacion"
   ]
  },
  {
   "cell_type": "markdown",
   "metadata": {},
   "source": [
    "## (1) Constantes / Datos"
   ]
  },
  {
   "cell_type": "code",
   "execution_count": 1730,
   "metadata": {},
   "outputs": [],
   "source": [
    "dias = [\n",
    "    Dia(1, \"lunes\"),\n",
    "    Dia(2, \"martes\"),\n",
    "    Dia(3, \"mierc\"),\n",
    "    Dia(4, \"jueves\"),\n",
    "    Dia(5, \"viernes\")\n",
    "]\n",
    "dias_ids = []\n",
    "for d in dias:\n",
    "    dias_ids.append(d.id)\n",
    "\n",
    "horarios = [\n",
    "    Horario(1, \"8:00\", \"8:50\"),\n",
    "    Horario(2, \"8:50\", \"9:40\"),\n",
    "    Horario(3, \"9:50\", \"10:40\"),\n",
    "    Horario(4, \"10:40\", \"11:30\"),\n",
    "    Horario(5, \"11:40\", \"12:30\"),\n",
    "    Horario(6, \"12:30\", \"13:20\")\n",
    "]\n",
    "horarios_ids = []\n",
    "for h in horarios:\n",
    "    horarios_ids.append(h.id)\n",
    "\n",
    "\n",
    "bloques_horario = {}\n",
    "for dia in dias:\n",
    "    for horario in horarios:\n",
    "        bloques_horario[(dia.id, horario.id)] = BloqueHorario(dia, horario)\n",
    "\n",
    "bloques_horario_ids = []\n",
    "for b in bloques_horario:\n",
    "    bloques_horario_ids.append(b)\n",
    "\n",
    "\n",
    "profesores = [\n",
    "    Profesor(0, \"a\"),\n",
    "    Profesor(1, \"b\"),\n",
    "    Profesor(2, \"c\"),\n",
    "    Profesor(3, \"d\")\n",
    "]\n",
    "profesores_ids = []\n",
    "for p in profesores:\n",
    "    profesores_ids.append(p.id)\n",
    "\n"
   ]
  },
  {
   "cell_type": "code",
   "execution_count": 1731,
   "metadata": {},
   "outputs": [],
   "source": [
    "#disponibilidad\n",
    "update_disp(profesores[0], bloques_horario, [(1,1),(1,2),(1,5),(1,6),(2,1),(2,2),(3,3),(3,4),(3,5),(3,6),(4,1),(4,2),(4,6),(5,1),(5,2)])\n",
    "update_disp(profesores[1], bloques_horario, [(1,5),(1,6),(2,1),(2,2),(2,5),(2,6),(3,5),(3,6),(4,1),(4,2),(5,1),(5,2)])\n",
    "update_disp(profesores[2], bloques_horario, [(1,1),(1,2),(3,1),(3,2),(4,1),(4,2),(5,1),(5,2)])\n",
    "update_disp(profesores[3], bloques_horario, [(1,5),(1,6),(2,3),(2,4),(3,3),(3,4),(4,3),(4,4),(5,5),(5,6)])\n",
    "\n",
    "# update_disp(profesores[0], bloques_horario, [0,1,4,5,6,7,14,15,16,17,18,19,23,24,25])\n",
    "# update_disp(profesores[1], bloques_horario, [4,5,6,7,10,11,16,17,18,19,24,25])\n",
    "# update_disp(profesores[2], bloques_horario, [0,1,12,13,18,19,24,25])\n",
    "# update_disp(profesores[3], bloques_horario, [4,5,8,9,14,15,20,21,28,29])\n",
    "\n",
    "# for p in profesores:\n",
    "#     print(str(p))\n",
    "#     print([str(d) for d in p.no_disponible])\n",
    "\n"
   ]
  },
  {
   "cell_type": "code",
   "execution_count": 1732,
   "metadata": {},
   "outputs": [],
   "source": [
    "#prioridad\n",
    "update_prioridad(profesores[0], bloques_horario, [[(1,3),1],\n",
    "                                                  [(1,4),1],\n",
    "                                                  [(2,3),1],\n",
    "                                                  [(2,4),1],\n",
    "                                                  [(2,5),3],\n",
    "                                                  [(2,6),3],\n",
    "                                                  [(3,1),1],\n",
    "                                                  [(3,2),1],\n",
    "                                                  [(4,3),2],\n",
    "                                                  [(4,4),2],\n",
    "                                                  [(4,5),2],\n",
    "                                                  [(5,3),1],\n",
    "                                                  [(5,4),1],\n",
    "                                                  [(5,5),3],\n",
    "                                                  [(5,6),3]\n",
    "                                                  ])\n",
    "\n",
    "update_prioridad(profesores[1], bloques_horario, [[(1,1),1],\n",
    "                                                  [(1,2),1],\n",
    "                                                  [(1,3),1],\n",
    "                                                  [(1,4),1],\n",
    "                                                  [(2,3),3],\n",
    "                                                  [(2,4),3],\n",
    "                                                  [(3,1),2],\n",
    "                                                  [(3,2),2],\n",
    "                                                  [(3,3),2],\n",
    "                                                  [(3,4),2],\n",
    "                                                  [(4,3),1],\n",
    "                                                  [(4,4),1],\n",
    "                                                  [(4,5),1],\n",
    "                                                  [(4,6),1],\n",
    "                                                  [(5,3),3],\n",
    "                                                  [(5,4),3],\n",
    "                                                  [(5,5),1],\n",
    "                                                  [(5,6),1],\n",
    "                                                 ])\n",
    "\n",
    "update_prioridad(profesores[2], bloques_horario, [[(1,3),1],\n",
    "                                                  [(1,4),1],\n",
    "                                                  [(1,5),3],\n",
    "                                                  [(1,6),3],\n",
    "                                                  [(2,1),1],\n",
    "                                                  [(2,2),1],\n",
    "                                                  [(2,3),2],\n",
    "                                                  [(2,4),2],\n",
    "                                                  [(2,5),1],\n",
    "                                                  [(2,6),1],\n",
    "                                                  [(3,3),3],\n",
    "                                                  [(3,4),3],\n",
    "                                                  [(3,5),2],\n",
    "                                                  [(3,6),2],\n",
    "                                                  [(4,3),1],\n",
    "                                                  [(4,4),1],\n",
    "                                                  [(4,5),1],\n",
    "                                                  [(4,6),1],\n",
    "                                                  [(5,3),2],\n",
    "                                                  [(5,4),2],\n",
    "                                                  [(5,5),3],\n",
    "                                                  [(5,6),3],\n",
    "                                                  ])\n",
    "\n",
    "update_prioridad(profesores[3], bloques_horario, [[(1,1),3],\n",
    "                                                  [(1,2),3],\n",
    "                                                  [(1,3),1],\n",
    "                                                  [(1,4),1],\n",
    "                                                  [(2,1),1],\n",
    "                                                  [(2,2),1],\n",
    "                                                  [(2,5),1],\n",
    "                                                  [(2,6),1],\n",
    "                                                  [(3,1),2],\n",
    "                                                  [(3,2),2],\n",
    "                                                  [(3,5),1],\n",
    "                                                  [(3,6),1],\n",
    "                                                  [(4,1),3],\n",
    "                                                  [(4,2),3],\n",
    "                                                  [(4,5),1],\n",
    "                                                  [(4,6),1],\n",
    "                                                  [(5,1),1],\n",
    "                                                  [(5,2),1],\n",
    "                                                  [(5,3),1],\n",
    "                                                  [(5,4),1],\n",
    "                                                  ])\n"
   ]
  },
  {
   "cell_type": "code",
   "execution_count": 1733,
   "metadata": {},
   "outputs": [],
   "source": [
    "materias = [\n",
    "    Materia(0, \"A\", profesores[0], carga_horaria=5, cantidad_dias=2, horas_maximo=3),\n",
    "    Materia(1, \"B\", profesores[1], carga_horaria=7, cantidad_dias=3, horas_maximo=3, horas_minimo=2),\n",
    "    Materia(2, \"C\", profesores[2], carga_horaria=7, cantidad_dias=3, horas_maximo=3, horas_minimo=2),\n",
    "    Materia(3, \"D\", profesores[3], carga_horaria=5, cantidad_dias=2, horas_maximo=3)\n",
    "]\n",
    "materias_ids = []\n",
    "for m in materias:\n",
    "    materias_ids.append(m.id)"
   ]
  },
  {
   "cell_type": "markdown",
   "metadata": {},
   "source": [
    "## (2) Variables\n",
    "\n",
    "\n",
    "$$ u_{mb} = [0,1] $$\n",
    "\n",
    "    m: materia\n",
    "    b: bloque horario = [dh]: dia y hora\n",
    "\n",
    "$$ v_{md} = [0,1] $$\n",
    "\n",
    "    m: materia\n",
    "    d: dia\n",
    "\n",
    "$$ r_p = \\R $$\n",
    "\n",
    "    p: profesor\n"
   ]
  },
  {
   "cell_type": "code",
   "execution_count": 1734,
   "metadata": {},
   "outputs": [],
   "source": [
    "u_dict = {}\n",
    "for m in materias:        #crear variables \"u\" solo para horarios disponibles\n",
    "    # disp = m.profesor.disponibilidad(bloques_horario)\n",
    "    for b_id in bloques_horario:\n",
    "        u_dict[(m.id, b_id)] = u(m, bloques_horario[b_id])\n",
    "\n",
    "# print([str(us) for us in u_dict])\n",
    "\n",
    "v_dict = {}\n",
    "for m in materias:\n",
    "    for d in dias:\n",
    "        v_dict[(m.id, d.id)] = v(m, d)\n",
    "\n",
    "r_dict = {}\n",
    "for p in profesores:\n",
    "    r_dict[(p.id)] = r(p)\n"
   ]
  },
  {
   "cell_type": "code",
   "execution_count": 1735,
   "metadata": {},
   "outputs": [
    {
     "name": "stdout",
     "output_type": "stream",
     "text": [
      "120\n",
      "u_{A_lunes_9:50-10:40}\n"
     ]
    }
   ],
   "source": [
    "print(len(u_dict)) # cantidad de variables\n",
    "print(u_dict[(0,(1,3))])"
   ]
  },
  {
   "cell_type": "code",
   "execution_count": 1736,
   "metadata": {},
   "outputs": [],
   "source": [
    "# Create a new model\n",
    "model = gp.Model(\"timetable\")\n"
   ]
  },
  {
   "cell_type": "code",
   "execution_count": 1737,
   "metadata": {},
   "outputs": [],
   "source": [
    "# Create variables\n",
    "\n",
    "# u_vars = m.addMVar(shape=len(u_dict), vtype=GRB.BINARY, name=\"u\") # variable matrix\n",
    "\n",
    "for u_i in u_dict: # crear variables \"u\" a partir de u_dict\n",
    "    u_dict[u_i].variable = model.addVar(vtype=GRB.BINARY, name=str(u_dict[u_i]))\n",
    "\n",
    "# print([ui.variable for ui in u_dict])\n",
    "\n",
    "for v_i in v_dict: # crear variables \"v\" a partir de v_dict\n",
    "    v_dict[v_i].variable = model.addVar(vtype=GRB.BINARY, name=str(v_dict[v_i]))\n",
    "\n",
    "# v_vars = np.array([v_i.variable for v_i in v_dict])\n",
    "\n",
    "for r_i in r_dict:\n",
    "    r_dict[r_i].variable = model.addVar(vtype=GRB.CONTINUOUS, name=str(r_dict[r_i]))\n"
   ]
  },
  {
   "cell_type": "markdown",
   "metadata": {},
   "source": [
    "## (3) Restricciones"
   ]
  },
  {
   "cell_type": "markdown",
   "metadata": {},
   "source": [
    "### (3.1) unica materia por bloque horario\n",
    "$$ \\sum_m{u_{mb}} \\leq 1 $$\n",
    "\n",
    "    para todo b"
   ]
  },
  {
   "cell_type": "code",
   "execution_count": 1738,
   "metadata": {},
   "outputs": [
    {
     "data": {
      "text/plain": [
       "{(1, 1): <gurobi.Constr *Awaiting Model Update*>,\n",
       " (1, 2): <gurobi.Constr *Awaiting Model Update*>,\n",
       " (1, 3): <gurobi.Constr *Awaiting Model Update*>,\n",
       " (1, 4): <gurobi.Constr *Awaiting Model Update*>,\n",
       " (1, 5): <gurobi.Constr *Awaiting Model Update*>,\n",
       " (1, 6): <gurobi.Constr *Awaiting Model Update*>,\n",
       " (2, 1): <gurobi.Constr *Awaiting Model Update*>,\n",
       " (2, 2): <gurobi.Constr *Awaiting Model Update*>,\n",
       " (2, 3): <gurobi.Constr *Awaiting Model Update*>,\n",
       " (2, 4): <gurobi.Constr *Awaiting Model Update*>,\n",
       " (2, 5): <gurobi.Constr *Awaiting Model Update*>,\n",
       " (2, 6): <gurobi.Constr *Awaiting Model Update*>,\n",
       " (3, 1): <gurobi.Constr *Awaiting Model Update*>,\n",
       " (3, 2): <gurobi.Constr *Awaiting Model Update*>,\n",
       " (3, 3): <gurobi.Constr *Awaiting Model Update*>,\n",
       " (3, 4): <gurobi.Constr *Awaiting Model Update*>,\n",
       " (3, 5): <gurobi.Constr *Awaiting Model Update*>,\n",
       " (3, 6): <gurobi.Constr *Awaiting Model Update*>,\n",
       " (4, 1): <gurobi.Constr *Awaiting Model Update*>,\n",
       " (4, 2): <gurobi.Constr *Awaiting Model Update*>,\n",
       " (4, 3): <gurobi.Constr *Awaiting Model Update*>,\n",
       " (4, 4): <gurobi.Constr *Awaiting Model Update*>,\n",
       " (4, 5): <gurobi.Constr *Awaiting Model Update*>,\n",
       " (4, 6): <gurobi.Constr *Awaiting Model Update*>,\n",
       " (5, 1): <gurobi.Constr *Awaiting Model Update*>,\n",
       " (5, 2): <gurobi.Constr *Awaiting Model Update*>,\n",
       " (5, 3): <gurobi.Constr *Awaiting Model Update*>,\n",
       " (5, 4): <gurobi.Constr *Awaiting Model Update*>,\n",
       " (5, 5): <gurobi.Constr *Awaiting Model Update*>,\n",
       " (5, 6): <gurobi.Constr *Awaiting Model Update*>}"
      ]
     },
     "execution_count": 1738,
     "metadata": {},
     "output_type": "execute_result"
    }
   ],
   "source": [
    "model.addConstrs(gp.quicksum(u_dict[m, b].variable for m in materias_ids) <= 1 for b in bloques_horario_ids)"
   ]
  },
  {
   "cell_type": "markdown",
   "metadata": {},
   "source": [
    "### (3.2) cubrir carga horaria para cada materia\n",
    "$$ \\sum_b{u_{mb}} = c_m $$\n",
    "\n",
    "    para todo m (c_m: carga horaria)"
   ]
  },
  {
   "cell_type": "code",
   "execution_count": 1739,
   "metadata": {},
   "outputs": [
    {
     "data": {
      "text/plain": [
       "{0: <gurobi.Constr *Awaiting Model Update*>,\n",
       " 1: <gurobi.Constr *Awaiting Model Update*>,\n",
       " 2: <gurobi.Constr *Awaiting Model Update*>,\n",
       " 3: <gurobi.Constr *Awaiting Model Update*>}"
      ]
     },
     "execution_count": 1739,
     "metadata": {},
     "output_type": "execute_result"
    }
   ],
   "source": [
    "model.addConstrs(gp.quicksum(u_dict[m, b].variable for b in bloques_horario_ids) == materias[m].carga_horaria for m in materias_ids)"
   ]
  },
  {
   "cell_type": "markdown",
   "metadata": {},
   "source": [
    "### (3.3) definicion de \"v\"\n",
    "\n",
    "$$ v_{md} = {OR}_h [u_{mdh}] $$\n",
    "    para todo m, d"
   ]
  },
  {
   "cell_type": "code",
   "execution_count": 1740,
   "metadata": {},
   "outputs": [
    {
     "data": {
      "text/plain": [
       "{(0, 1): <gurobi.GenConstr *Awaiting Model Update*>,\n",
       " (0, 2): <gurobi.GenConstr *Awaiting Model Update*>,\n",
       " (0, 3): <gurobi.GenConstr *Awaiting Model Update*>,\n",
       " (0, 4): <gurobi.GenConstr *Awaiting Model Update*>,\n",
       " (0, 5): <gurobi.GenConstr *Awaiting Model Update*>,\n",
       " (1, 1): <gurobi.GenConstr *Awaiting Model Update*>,\n",
       " (1, 2): <gurobi.GenConstr *Awaiting Model Update*>,\n",
       " (1, 3): <gurobi.GenConstr *Awaiting Model Update*>,\n",
       " (1, 4): <gurobi.GenConstr *Awaiting Model Update*>,\n",
       " (1, 5): <gurobi.GenConstr *Awaiting Model Update*>,\n",
       " (2, 1): <gurobi.GenConstr *Awaiting Model Update*>,\n",
       " (2, 2): <gurobi.GenConstr *Awaiting Model Update*>,\n",
       " (2, 3): <gurobi.GenConstr *Awaiting Model Update*>,\n",
       " (2, 4): <gurobi.GenConstr *Awaiting Model Update*>,\n",
       " (2, 5): <gurobi.GenConstr *Awaiting Model Update*>,\n",
       " (3, 1): <gurobi.GenConstr *Awaiting Model Update*>,\n",
       " (3, 2): <gurobi.GenConstr *Awaiting Model Update*>,\n",
       " (3, 3): <gurobi.GenConstr *Awaiting Model Update*>,\n",
       " (3, 4): <gurobi.GenConstr *Awaiting Model Update*>,\n",
       " (3, 5): <gurobi.GenConstr *Awaiting Model Update*>}"
      ]
     },
     "execution_count": 1740,
     "metadata": {},
     "output_type": "execute_result"
    }
   ],
   "source": [
    "model.addConstrs(v_dict[(m, d)].variable == gp.or_(u_dict[(m, (d, h))].variable for h in horarios_ids)  for m in materias_ids for d in dias_ids)"
   ]
  },
  {
   "cell_type": "markdown",
   "metadata": {},
   "source": [
    "### (3.4) particion de horas por materia"
   ]
  },
  {
   "cell_type": "markdown",
   "metadata": {},
   "source": [
    "#### (3.4.1) fijar cantidad de dias por materia\n",
    "\n",
    "$$ \\sum_d {v_{md}} = D_m $$\n",
    "\n",
    "    para todo m"
   ]
  },
  {
   "cell_type": "code",
   "execution_count": 1741,
   "metadata": {},
   "outputs": [
    {
     "data": {
      "text/plain": [
       "{0: <gurobi.Constr *Awaiting Model Update*>,\n",
       " 1: <gurobi.Constr *Awaiting Model Update*>,\n",
       " 2: <gurobi.Constr *Awaiting Model Update*>,\n",
       " 3: <gurobi.Constr *Awaiting Model Update*>}"
      ]
     },
     "execution_count": 1741,
     "metadata": {},
     "output_type": "execute_result"
    }
   ],
   "source": [
    "model.addConstrs(gp.quicksum(v_dict[m, d].variable for d in dias_ids) == materias[m].cantidad_dias for m in materias_ids)"
   ]
  },
  {
   "cell_type": "markdown",
   "metadata": {},
   "source": [
    "#### (3.4.2) fijar maximo y minimo de horas por dia\n",
    "\n",
    "$$ v_{md} \\times Hmin_m \\leq \\sum_h {u_{mdh}} \\leq Hmax_m $$\n",
    "\n",
    "    para todo m, d"
   ]
  },
  {
   "cell_type": "code",
   "execution_count": 1742,
   "metadata": {},
   "outputs": [
    {
     "data": {
      "text/plain": [
       "{(0, 1): <gurobi.Constr *Awaiting Model Update*>,\n",
       " (0, 2): <gurobi.Constr *Awaiting Model Update*>,\n",
       " (0, 3): <gurobi.Constr *Awaiting Model Update*>,\n",
       " (0, 4): <gurobi.Constr *Awaiting Model Update*>,\n",
       " (0, 5): <gurobi.Constr *Awaiting Model Update*>,\n",
       " (1, 1): <gurobi.Constr *Awaiting Model Update*>,\n",
       " (1, 2): <gurobi.Constr *Awaiting Model Update*>,\n",
       " (1, 3): <gurobi.Constr *Awaiting Model Update*>,\n",
       " (1, 4): <gurobi.Constr *Awaiting Model Update*>,\n",
       " (1, 5): <gurobi.Constr *Awaiting Model Update*>,\n",
       " (2, 1): <gurobi.Constr *Awaiting Model Update*>,\n",
       " (2, 2): <gurobi.Constr *Awaiting Model Update*>,\n",
       " (2, 3): <gurobi.Constr *Awaiting Model Update*>,\n",
       " (2, 4): <gurobi.Constr *Awaiting Model Update*>,\n",
       " (2, 5): <gurobi.Constr *Awaiting Model Update*>,\n",
       " (3, 1): <gurobi.Constr *Awaiting Model Update*>,\n",
       " (3, 2): <gurobi.Constr *Awaiting Model Update*>,\n",
       " (3, 3): <gurobi.Constr *Awaiting Model Update*>,\n",
       " (3, 4): <gurobi.Constr *Awaiting Model Update*>,\n",
       " (3, 5): <gurobi.Constr *Awaiting Model Update*>}"
      ]
     },
     "execution_count": 1742,
     "metadata": {},
     "output_type": "execute_result"
    }
   ],
   "source": [
    "model.addConstrs(gp.quicksum(u_dict[(m,(d,h))].variable for h in horarios_ids)\n",
    "                 <= materias[m].horas_maximo for m in materias_ids for d in dias_ids)\n",
    "\n",
    "model.addConstrs(gp.quicksum(u_dict[(m,(d,h))].variable for h in horarios_ids)\n",
    "                 >= materias[m].horas_minimo * v_dict[m,d].variable for m in materias_ids for d in dias_ids)"
   ]
  },
  {
   "cell_type": "markdown",
   "metadata": {},
   "source": [
    "### (3.5) horas consecutivas dentro de un dia\n",
    "\n",
    "$$ u_{mdh} + \\sum_h {u_{md(h)} \\otimes u_{md(h+1)}} + u_{md(h_{max})} \\leq 2 $$\n",
    "\n",
    "$$ \\sum_h {u_{mdh}} - \\sum_h {u_{md(h)} · u_{md(h+1)}} \\leq 1 $$\n",
    "\n",
    "$$ \\sum_h {u_{mdh}} - \\sum_h {u_{md(h)} · u_{md(h+1)}} = v_{md} $$\n",
    "    para todo m, d"
   ]
  },
  {
   "cell_type": "code",
   "execution_count": 1743,
   "metadata": {},
   "outputs": [
    {
     "data": {
      "text/plain": [
       "{(0, 1): <gurobi.QConstr Not Yet Added>,\n",
       " (0, 2): <gurobi.QConstr Not Yet Added>,\n",
       " (0, 3): <gurobi.QConstr Not Yet Added>,\n",
       " (0, 4): <gurobi.QConstr Not Yet Added>,\n",
       " (0, 5): <gurobi.QConstr Not Yet Added>,\n",
       " (1, 1): <gurobi.QConstr Not Yet Added>,\n",
       " (1, 2): <gurobi.QConstr Not Yet Added>,\n",
       " (1, 3): <gurobi.QConstr Not Yet Added>,\n",
       " (1, 4): <gurobi.QConstr Not Yet Added>,\n",
       " (1, 5): <gurobi.QConstr Not Yet Added>,\n",
       " (2, 1): <gurobi.QConstr Not Yet Added>,\n",
       " (2, 2): <gurobi.QConstr Not Yet Added>,\n",
       " (2, 3): <gurobi.QConstr Not Yet Added>,\n",
       " (2, 4): <gurobi.QConstr Not Yet Added>,\n",
       " (2, 5): <gurobi.QConstr Not Yet Added>,\n",
       " (3, 1): <gurobi.QConstr Not Yet Added>,\n",
       " (3, 2): <gurobi.QConstr Not Yet Added>,\n",
       " (3, 3): <gurobi.QConstr Not Yet Added>,\n",
       " (3, 4): <gurobi.QConstr Not Yet Added>,\n",
       " (3, 5): <gurobi.QConstr Not Yet Added>}"
      ]
     },
     "execution_count": 1743,
     "metadata": {},
     "output_type": "execute_result"
    }
   ],
   "source": [
    "model.addConstrs(gp.quicksum(u_dict[(m,(d,h))].variable for h in horarios_ids)\n",
    "                 - gp.quicksum(u_dict[(m,(d,h))].variable * u_dict[(m,(d,h+1))].variable for h in horarios_ids[0:len(horarios_ids)-1])\n",
    "                 == v_dict[m, d].variable for m in materias_ids for d in dias_ids)        "
   ]
  },
  {
   "cell_type": "code",
   "execution_count": 1744,
   "metadata": {},
   "outputs": [],
   "source": [
    "abc = {1:300, 2:250, 3:200}\n",
    "abc = {i:i**2 for i in range(5)}\n",
    "abc = {\"a\":2, \"b\":3}\n",
    "abc = {(\"a\",\"a\"):1, (\"a\",\"b\"):3}\n",
    "abc[(\"b\",\"b\")] = 5\n",
    "t = (\"b\",\"b\")\n",
    "# try:\n",
    "#     print(abc[t])\n",
    "# except:\n",
    "#     pass\n",
    "\n",
    "\n"
   ]
  },
  {
   "cell_type": "markdown",
   "metadata": {},
   "source": [
    "### (3.6) indisponibilidad\n",
    "\n",
    "$$ u_{mb} = 0 $$\n",
    "    para todo m sin disponibilidad en b"
   ]
  },
  {
   "cell_type": "code",
   "execution_count": 1745,
   "metadata": {},
   "outputs": [],
   "source": [
    "for m in materias:\n",
    "    for b in m.profesor.no_disponible:\n",
    "        model.addConstr(u_dict[m.id, b.id()].variable == 0)\n"
   ]
  },
  {
   "cell_type": "markdown",
   "metadata": {},
   "source": [
    "### (3.7) unica materia por profesor para un mismo bloque horario\n",
    "\n",
    "$$ \\sum_{m.prof = p} {u_{mb}} \\leq 1 $$\n",
    "\n",
    "    para todo b, p"
   ]
  },
  {
   "cell_type": "code",
   "execution_count": 1746,
   "metadata": {},
   "outputs": [],
   "source": [
    "# model.addConstrs(gp.quicksum(u_dict[m.id, b].variable for m in materias_profesor(profesores[p-1], materias)) <= 1 for b in bloques_horario_ids for p in profesores_ids)\n",
    "\n",
    "for p in profesores:\n",
    "    mats = materias_profesor(p, materias)\n",
    "    \n",
    "    if len(mats) > 1:\n",
    "        model.addConstrs(gp.quicksum(u_dict[m.id, b].variable for m in mats) <= 1 for b in bloques_horario_ids)"
   ]
  },
  {
   "cell_type": "markdown",
   "metadata": {},
   "source": [
    "### (3.8) definicion de rating r_p\n",
    "\n",
    "$$ r_p = \\frac{\\sum_{b, m.prof=p} {a_{mb} · u_{mb}}}{\\sum_{m.prof=p}{C_m}} $$\n",
    "$$ r_p \\sum_{m.prof=p}{C_m} = \\sum_{b, m.prof=p} {a_{mb} · u_{mb}}  $$"
   ]
  },
  {
   "cell_type": "code",
   "execution_count": 1747,
   "metadata": {},
   "outputs": [],
   "source": [
    "for p in profesores:\n",
    "    r_coef = 0\n",
    "    sum_expr = gp.LinExpr()\n",
    "    for m in materias_profesor(p, materias):\n",
    "        r_coef += m.carga_horaria\n",
    "        for pr in p.prioridades:\n",
    "            sum_expr += pr.value * u_dict[m.id, pr.bloque_horario.id()].variable\n",
    "\n",
    "    model.addConstr(r_coef * r_dict[p.id].variable == sum_expr)"
   ]
  },
  {
   "cell_type": "markdown",
   "metadata": {},
   "source": [
    "## (4) Funcion Objetivo"
   ]
  },
  {
   "cell_type": "code",
   "execution_count": 1748,
   "metadata": {},
   "outputs": [],
   "source": [
    "# Set objective\n",
    "obj = gp.QuadExpr()"
   ]
  },
  {
   "cell_type": "markdown",
   "metadata": {},
   "source": [
    "### (4.1) Prioridad horaria de los docentes\n",
    "\n",
    "$$ \\sum_{m,b} {a_{mb}·u_{mb}} $$\n",
    "alternativa:\n",
    "$$ \\sum_p {r_p}"
   ]
  },
  {
   "cell_type": "code",
   "execution_count": 1749,
   "metadata": {},
   "outputs": [],
   "source": [
    "\n",
    "# for ui in u_dict:\n",
    "#     ai = None\n",
    "#     u_ob = u_dict[ui]\n",
    "#     for pr in u_ob.materia.profesor.prioridades:\n",
    "#         if pr.bloque_horario == u_ob.horario:\n",
    "#             ai = pr\n",
    "#             break\n",
    "#     if ai is not None:\n",
    "#         obj += ai.value * u_ob.variable\n",
    "\n",
    "\n",
    "# alternativa: ratings\n",
    "obj += gp.quicksum(r_dict[p].variable for p in profesores_ids)\n",
    "\n"
   ]
  },
  {
   "cell_type": "markdown",
   "metadata": {},
   "source": [
    "### (4.2) Minimizar dias consecutivos con la misma materia\n",
    "\n",
    "$$ \\sum_m {\\sum_d {v_{m(d)} · v_{m(d+1)}}} $$"
   ]
  },
  {
   "cell_type": "code",
   "execution_count": 1750,
   "metadata": {},
   "outputs": [],
   "source": [
    "PESO = 5\n",
    "\n",
    "for m in materias_ids:\n",
    "    obj += PESO * gp.quicksum(v_dict[m,d].variable * v_dict[m,d+1].variable for d in dias_ids[0:len(dias_ids)-1])"
   ]
  },
  {
   "cell_type": "markdown",
   "metadata": {},
   "source": [
    "### (4.3) Maximizar balance global de felicidad (rating): minimizar varianza de los r_p\n",
    "\n",
    "$$ \\frac{1}{P} \\sum_p {({r_p - \\frac{1}{P} \\sum_{p'} {r_{p'}}})^2} $$"
   ]
  },
  {
   "cell_type": "code",
   "execution_count": 1751,
   "metadata": {},
   "outputs": [],
   "source": [
    "PESO = 50\n",
    "m = np.mean([r_dict[ri].variable for ri in r_dict])\n",
    "d2 = np.mean([(r_dict[ri].variable - m)**2 for ri in r_dict])\n",
    "obj += PESO*d2"
   ]
  },
  {
   "cell_type": "markdown",
   "metadata": {},
   "source": [
    "## Resolver"
   ]
  },
  {
   "cell_type": "code",
   "execution_count": 1752,
   "metadata": {},
   "outputs": [
    {
     "name": "stdout",
     "output_type": "stream",
     "text": [
      "Gurobi Optimizer version 10.0.2 build v10.0.2rc0 (win64)\n",
      "\n",
      "CPU model: Intel(R) Core(TM) i7-9750H CPU @ 2.60GHz, instruction set [SSE2|AVX|AVX2]\n",
      "Thread count: 6 physical cores, 12 logical processors, using up to 12 threads\n",
      "\n",
      "Optimize a model with 127 rows, 144 columns and 634 nonzeros\n",
      "Model fingerprint: 0xd8879ef1\n",
      "Model has 26 quadratic objective terms\n",
      "Model has 20 quadratic constraints\n",
      "Model has 20 general constraints\n",
      "Variable types: 4 continuous, 140 integer (140 binary)\n",
      "Coefficient statistics:\n",
      "  Matrix range     [1e+00, 7e+00]\n",
      "  QMatrix range    [1e+00, 1e+00]\n",
      "  QLMatrix range   [1e+00, 1e+00]\n",
      "  Objective range  [1e+00, 1e+00]\n",
      "  QObjective range [1e+01, 2e+01]\n",
      "  Bounds range     [1e+00, 1e+00]\n",
      "  RHS range        [1e+00, 7e+00]\n",
      "Presolve added 18 rows and 0 columns\n",
      "Presolve removed 0 rows and 47 columns\n",
      "Presolve time: 0.00s\n",
      "Presolved: 302 rows, 144 columns, 965 nonzeros\n",
      "Presolved model has 46 quadratic objective terms\n",
      "Variable types: 4 continuous, 140 integer (140 binary)\n",
      "\n",
      "Root relaxation: objective 5.499169e+00, 669 iterations, 0.01 seconds (0.01 work units)\n",
      "\n",
      "    Nodes    |    Current Node    |     Objective Bounds      |     Work\n",
      " Expl Unexpl |  Obj  Depth IntInf | Incumbent    BestBd   Gap | It/Node Time\n",
      "\n",
      "     0     0    5.49917    0   98          -    5.49917      -     -    0s\n",
      "     0     0    8.38052    0  120          -    8.38052      -     -    0s\n",
      "H    0     0                      30.6653061    8.66693  71.7%     -    0s\n",
      "     0     0    8.66693    0  118   30.66531    8.66693  71.7%     -    0s\n",
      "     0     0    8.66693    0  118   30.66531    8.66693  71.7%     -    0s\n",
      "H    0     0                      16.4566327    9.09800  44.7%     -    0s\n",
      "     0     0    9.09800    0  119   16.45663    9.09800  44.7%     -    0s\n",
      "     0     2    9.65377    0  119   16.45663    9.65377  41.3%     -    0s\n",
      "H   81    58                      12.3530612    9.65377  21.9%  28.9    0s\n",
      "\n",
      "Cutting planes:\n",
      "  Gomory: 1\n",
      "  Zero half: 5\n",
      "  Mod-K: 2\n",
      "  RLT: 8\n",
      "\n",
      "Explored 184 nodes (4273 simplex iterations) in 0.24 seconds (0.09 work units)\n",
      "Thread count was 12 (of 12 available processors)\n",
      "\n",
      "Solution count 3: 12.3531 16.4566 30.6653 \n",
      "\n",
      "Optimal solution found (tolerance 1.00e-04)\n",
      "Best objective 1.235306122449e+01, best bound 1.235306122449e+01, gap 0.0000%\n"
     ]
    }
   ],
   "source": [
    "\n",
    "model.setObjective(obj, GRB.MINIMIZE)\n",
    "model.optimize()"
   ]
  },
  {
   "cell_type": "code",
   "execution_count": 1753,
   "metadata": {},
   "outputs": [
    {
     "name": "stdout",
     "output_type": "stream",
     "text": [
      "Obj: 12.3531\n",
      "=============================================================\n",
      "\t\tlunes\tmartes\tmierc\tjueves\tviernes\n",
      "8:00-8:50\tB\tC\tD\tNone\tD\n",
      "8:50-9:40\tB\tC\tD\tNone\tD\n",
      "9:50-10:40\tNone\tA\tB\tA\tD\n",
      "10:40-11:30\tC\tA\tB\tA\tB\n",
      "11:40-12:30\tC\tA\tNone\tC\tB\n",
      "12:30-13:20\tC\tNone\tNone\tC\tB\n"
     ]
    }
   ],
   "source": [
    "# result = np.array([var.x for var in model.getVars()])\n",
    "# print(result)\n",
    "\n",
    "# print(model.getVars())\n",
    "\n",
    "# for ui in u_dict:\n",
    "#     if ui.materia == Materia(\"A\",Profesor(\"a\")):\n",
    "#         print(str(ui) + \" = \" + str(ui.variable.x))\n",
    "\n",
    "# for vi in v_dict:\n",
    "#     if vi.materia == Materia(\"A\",Profesor(\"a\")):\n",
    "#         print(str(vi) + \" = \" + str(vi.variable.x))\n",
    "\n",
    "# for v in model.getVars():\n",
    "#     print('%s %g' % (v.VarName, v.X))\n",
    "\n",
    "print('Obj: %g' % model.ObjVal)\n",
    "print('=============================================================')\n",
    "print_timetable(dias, horarios, u_dict)\n"
   ]
  },
  {
   "cell_type": "code",
   "execution_count": 1754,
   "metadata": {},
   "outputs": [
    {
     "name": "stdout",
     "output_type": "stream",
     "text": [
      "u_{A_lunes_8:00-8:50} =  0.0\n",
      "u_{A_lunes_8:50-9:40} =  0.0\n",
      "u_{A_lunes_9:50-10:40} =  -0.0\n",
      "u_{A_lunes_10:40-11:30} =  -0.0\n",
      "u_{A_lunes_11:40-12:30} =  0.0\n",
      "u_{A_lunes_12:30-13:20} =  0.0\n",
      "u_{A_martes_8:00-8:50} =  0.0\n",
      "u_{A_martes_8:50-9:40} =  0.0\n",
      "u_{A_martes_9:50-10:40} =  1.0\n",
      "u_{A_martes_10:40-11:30} =  1.0\n",
      "u_{A_martes_11:40-12:30} =  1.0\n",
      "u_{A_martes_12:30-13:20} =  -0.0\n",
      "u_{A_mierc_8:00-8:50} =  -0.0\n",
      "u_{A_mierc_8:50-9:40} =  -0.0\n",
      "u_{A_mierc_9:50-10:40} =  0.0\n",
      "u_{A_mierc_10:40-11:30} =  0.0\n",
      "u_{A_mierc_11:40-12:30} =  0.0\n",
      "u_{A_mierc_12:30-13:20} =  0.0\n",
      "u_{A_jueves_8:00-8:50} =  0.0\n",
      "u_{A_jueves_8:50-9:40} =  0.0\n",
      "u_{A_jueves_9:50-10:40} =  1.0\n",
      "u_{A_jueves_10:40-11:30} =  1.0\n",
      "u_{A_jueves_11:40-12:30} =  0.0\n",
      "u_{A_jueves_12:30-13:20} =  0.0\n",
      "u_{A_viernes_8:00-8:50} =  0.0\n",
      "u_{A_viernes_8:50-9:40} =  0.0\n",
      "u_{A_viernes_9:50-10:40} =  -0.0\n",
      "u_{A_viernes_10:40-11:30} =  -0.0\n",
      "u_{A_viernes_11:40-12:30} =  -0.0\n",
      "u_{A_viernes_12:30-13:20} =  -0.0\n",
      "u_{B_lunes_8:00-8:50} =  1.0\n",
      "u_{B_lunes_8:50-9:40} =  1.0\n",
      "u_{B_lunes_9:50-10:40} =  0.0\n",
      "u_{B_lunes_10:40-11:30} =  -0.0\n",
      "u_{B_lunes_11:40-12:30} =  0.0\n",
      "u_{B_lunes_12:30-13:20} =  0.0\n",
      "u_{B_martes_8:00-8:50} =  0.0\n",
      "u_{B_martes_8:50-9:40} =  0.0\n",
      "u_{B_martes_9:50-10:40} =  0.0\n",
      "u_{B_martes_10:40-11:30} =  0.0\n",
      "u_{B_martes_11:40-12:30} =  0.0\n",
      "u_{B_martes_12:30-13:20} =  0.0\n",
      "u_{B_mierc_8:00-8:50} =  -0.0\n",
      "u_{B_mierc_8:50-9:40} =  -0.0\n",
      "u_{B_mierc_9:50-10:40} =  1.0\n",
      "u_{B_mierc_10:40-11:30} =  1.0\n",
      "u_{B_mierc_11:40-12:30} =  0.0\n",
      "u_{B_mierc_12:30-13:20} =  0.0\n",
      "u_{B_jueves_8:00-8:50} =  0.0\n",
      "u_{B_jueves_8:50-9:40} =  0.0\n",
      "u_{B_jueves_9:50-10:40} =  -0.0\n",
      "u_{B_jueves_10:40-11:30} =  -0.0\n",
      "u_{B_jueves_11:40-12:30} =  -0.0\n",
      "u_{B_jueves_12:30-13:20} =  -0.0\n",
      "u_{B_viernes_8:00-8:50} =  0.0\n",
      "u_{B_viernes_8:50-9:40} =  0.0\n",
      "u_{B_viernes_9:50-10:40} =  -0.0\n",
      "u_{B_viernes_10:40-11:30} =  1.0\n",
      "u_{B_viernes_11:40-12:30} =  1.0\n",
      "u_{B_viernes_12:30-13:20} =  1.0\n",
      "u_{C_lunes_8:00-8:50} =  0.0\n",
      "u_{C_lunes_8:50-9:40} =  0.0\n",
      "u_{C_lunes_9:50-10:40} =  0.0\n",
      "u_{C_lunes_10:40-11:30} =  1.0\n",
      "u_{C_lunes_11:40-12:30} =  1.0\n",
      "u_{C_lunes_12:30-13:20} =  1.0\n",
      "u_{C_martes_8:00-8:50} =  1.0\n",
      "u_{C_martes_8:50-9:40} =  1.0\n",
      "u_{C_martes_9:50-10:40} =  -0.0\n",
      "u_{C_martes_10:40-11:30} =  -0.0\n",
      "u_{C_martes_11:40-12:30} =  -0.0\n",
      "u_{C_martes_12:30-13:20} =  -0.0\n",
      "u_{C_mierc_8:00-8:50} =  0.0\n",
      "u_{C_mierc_8:50-9:40} =  0.0\n",
      "u_{C_mierc_9:50-10:40} =  -0.0\n",
      "u_{C_mierc_10:40-11:30} =  -0.0\n",
      "u_{C_mierc_11:40-12:30} =  0.0\n",
      "u_{C_mierc_12:30-13:20} =  0.0\n",
      "u_{C_jueves_8:00-8:50} =  0.0\n",
      "u_{C_jueves_8:50-9:40} =  0.0\n",
      "u_{C_jueves_9:50-10:40} =  -0.0\n",
      "u_{C_jueves_10:40-11:30} =  0.0\n",
      "u_{C_jueves_11:40-12:30} =  1.0\n",
      "u_{C_jueves_12:30-13:20} =  1.0\n",
      "u_{C_viernes_8:00-8:50} =  0.0\n",
      "u_{C_viernes_8:50-9:40} =  0.0\n",
      "u_{C_viernes_9:50-10:40} =  -0.0\n",
      "u_{C_viernes_10:40-11:30} =  -0.0\n",
      "u_{C_viernes_11:40-12:30} =  -0.0\n",
      "u_{C_viernes_12:30-13:20} =  -0.0\n",
      "u_{D_lunes_8:00-8:50} =  -0.0\n",
      "u_{D_lunes_8:50-9:40} =  -0.0\n",
      "u_{D_lunes_9:50-10:40} =  -0.0\n",
      "u_{D_lunes_10:40-11:30} =  -0.0\n",
      "u_{D_lunes_11:40-12:30} =  0.0\n",
      "u_{D_lunes_12:30-13:20} =  0.0\n",
      "u_{D_martes_8:00-8:50} =  -0.0\n",
      "u_{D_martes_8:50-9:40} =  -0.0\n",
      "u_{D_martes_9:50-10:40} =  0.0\n",
      "u_{D_martes_10:40-11:30} =  0.0\n",
      "u_{D_martes_11:40-12:30} =  -0.0\n",
      "u_{D_martes_12:30-13:20} =  -0.0\n",
      "u_{D_mierc_8:00-8:50} =  1.0\n",
      "u_{D_mierc_8:50-9:40} =  1.0\n",
      "u_{D_mierc_9:50-10:40} =  0.0\n",
      "u_{D_mierc_10:40-11:30} =  0.0\n",
      "u_{D_mierc_11:40-12:30} =  -0.0\n",
      "u_{D_mierc_12:30-13:20} =  -0.0\n",
      "u_{D_jueves_8:00-8:50} =  -0.0\n",
      "u_{D_jueves_8:50-9:40} =  -0.0\n",
      "u_{D_jueves_9:50-10:40} =  0.0\n",
      "u_{D_jueves_10:40-11:30} =  0.0\n",
      "u_{D_jueves_11:40-12:30} =  -0.0\n",
      "u_{D_jueves_12:30-13:20} =  -0.0\n",
      "u_{D_viernes_8:00-8:50} =  1.0\n",
      "u_{D_viernes_8:50-9:40} =  1.0\n",
      "u_{D_viernes_9:50-10:40} =  1.0\n",
      "u_{D_viernes_10:40-11:30} =  -0.0\n",
      "u_{D_viernes_11:40-12:30} =  0.0\n",
      "u_{D_viernes_12:30-13:20} =  0.0\n",
      "v_{A_lunes} =  -0.0\n",
      "v_{A_martes} =  1.0\n",
      "v_{A_mierc} =  -0.0\n",
      "v_{A_jueves} =  1.0\n",
      "v_{A_viernes} =  -0.0\n",
      "v_{B_lunes} =  1.0\n",
      "v_{B_martes} =  -0.0\n",
      "v_{B_mierc} =  1.0\n",
      "v_{B_jueves} =  -0.0\n",
      "v_{B_viernes} =  1.0\n",
      "v_{C_lunes} =  1.0\n",
      "v_{C_martes} =  1.0\n",
      "v_{C_mierc} =  0.0\n",
      "v_{C_jueves} =  1.0\n",
      "v_{C_viernes} =  -0.0\n",
      "v_{D_lunes} =  -0.0\n",
      "v_{D_martes} =  -0.0\n",
      "v_{D_mierc} =  1.0\n",
      "v_{D_jueves} =  -0.0\n",
      "v_{D_viernes} =  1.0\n",
      "r_{a} =  1.8\n",
      "r_{b} =  1.5714285714285732\n",
      "r_{c} =  1.5714285714285714\n",
      "r_{d} =  1.4000000000000012\n"
     ]
    }
   ],
   "source": [
    "for u_i in u_dict:\n",
    "    u = u_dict[u_i]\n",
    "    print(str(u) + \" = \", u.variable.X)\n",
    "\n",
    "for v_i in v_dict:\n",
    "    v = v_dict[v_i]\n",
    "    print(str(v) + \" = \", v.variable.X)\n",
    "\n",
    "for r_i in r_dict:\n",
    "    r = r_dict[r_i]\n",
    "    print(str(r) + \" = \", r.variable.X)"
   ]
  },
  {
   "cell_type": "code",
   "execution_count": 1755,
   "metadata": {},
   "outputs": [
    {
     "name": "stdout",
     "output_type": "stream",
     "text": [
      "Warning: variable name \"u_{A_lunes_8:00-8:50}\" has a colon\n",
      "Warning: Q constraint 0 doesn't have a name\n",
      "Warning: to let Gurobi read it back, use rlp format\n"
     ]
    }
   ],
   "source": [
    "model.write('timetable_opt.lp')\n",
    "\n",
    "# model.display()"
   ]
  }
 ],
 "metadata": {
  "kernelspec": {
   "display_name": "Python 3",
   "language": "python",
   "name": "python3"
  },
  "language_info": {
   "codemirror_mode": {
    "name": "ipython",
    "version": 3
   },
   "file_extension": ".py",
   "mimetype": "text/x-python",
   "name": "python",
   "nbconvert_exporter": "python",
   "pygments_lexer": "ipython3",
   "version": "3.10.8"
  }
 },
 "nbformat": 4,
 "nbformat_minor": 2
}
