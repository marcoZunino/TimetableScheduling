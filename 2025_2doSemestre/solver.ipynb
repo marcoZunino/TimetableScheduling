{
 "cells": [
  {
   "cell_type": "markdown",
   "metadata": {},
   "source": [
    "Imports"
   ]
  },
  {
   "cell_type": "code",
   "execution_count": 350,
   "metadata": {},
   "outputs": [],
   "source": [
    "import gurobipy as gp\n",
    "from gurobipy import *\n",
    "import numpy as np\n",
    "import pandas as pd\n",
    "\n",
    "from db_manager import *\n",
    "from load_data import *\n",
    "from printing import *"
   ]
  },
  {
   "cell_type": "code",
   "execution_count": 351,
   "metadata": {},
   "outputs": [],
   "source": [
    "# input = \"input.xlsm\"\n",
    "input = \"V:\\\\Horarios 2025\\\\2do semestre\\\\input.xlsx\"\n",
    "\n",
    "output = \"output.xlsx\""
   ]
  },
  {
   "cell_type": "code",
   "execution_count": 352,
   "metadata": {},
   "outputs": [],
   "source": [
    "# clases\n",
    "from entities import *\n",
    "from variables import *"
   ]
  },
  {
   "cell_type": "markdown",
   "metadata": {},
   "source": [
    "# Formulacion"
   ]
  },
  {
   "cell_type": "markdown",
   "metadata": {},
   "source": [
    "## (1) Datos / Constantes"
   ]
  },
  {
   "cell_type": "markdown",
   "metadata": {},
   "source": [
    "### Horarios"
   ]
  },
  {
   "cell_type": "code",
   "execution_count": 353,
   "metadata": {},
   "outputs": [],
   "source": [
    "\n",
    "\n",
    "dias = [\n",
    "    Dia(1, \"lun\"),\n",
    "    Dia(2, \"mar\"),\n",
    "    Dia(3, \"mie\"),\n",
    "    Dia(4, \"jue\"),\n",
    "    Dia(5, \"vie\")\n",
    "]\n",
    "dias_ids = [d.id for d in dias]\n",
    "\n",
    "DIAS = dias"
   ]
  },
  {
   "cell_type": "code",
   "execution_count": 354,
   "metadata": {},
   "outputs": [],
   "source": [
    "horarios: list[Horario] = []\n",
    "\n",
    "for inicio, fin, turnos, turnos_excepcional in read_horarios(get_database_connection()):\n",
    "    # print(f\"Creando horario de {inicio} a {fin} con turnos {turnos}\")\n",
    "    add_horario(horarios, inicio.strftime(\"%H:%M\"), fin.strftime(\"%H:%M\"), turnos, turnos_excepcional)\n",
    "\n",
    "\n",
    "horarios_ids = [h.id for h in horarios]\n",
    "\n",
    "HORARIOS = horarios\n",
    "\n",
    "turnos = list(set([t for h in horarios for t in h.turnos]))\n",
    "\n",
    "bloques_horario: dict[tuple, BloqueHorario] = {}\n",
    "\n",
    "for dia in dias:\n",
    "    for horario in horarios:\n",
    "        bloques_horario[(dia.id, horario.id)] = BloqueHorario(dia, horario)\n",
    "\n",
    "bloques_horario_ids = [b for b in bloques_horario]\n",
    "\n",
    "BLOQUES_HORARIO = bloques_horario\n"
   ]
  },
  {
   "cell_type": "code",
   "execution_count": 355,
   "metadata": {},
   "outputs": [],
   "source": [
    "# imprimir horarios en excel\n",
    "\n",
    "# data_horarios = {\n",
    "#         '#': range(1, len(horarios) + 1),\n",
    "#         'Inicio': [h.inicio for h in horarios],\n",
    "#         'Fin': [h.fin for h in horarios],\n",
    "#         'Turnos': [\", \".join(h.turnos) for h in horarios]\n",
    "# }\n",
    "\n",
    "# with pd.ExcelWriter(output) as writer:\n",
    "#     pd.DataFrame(data_horarios).to_excel(writer, sheet_name=\"turnos\", index=False)"
   ]
  },
  {
   "cell_type": "markdown",
   "metadata": {},
   "source": [
    "### Profesores"
   ]
  },
  {
   "cell_type": "code",
   "execution_count": 356,
   "metadata": {},
   "outputs": [
    {
     "name": "stderr",
     "output_type": "stream",
     "text": [
      "c:\\Python312\\Lib\\site-packages\\openpyxl\\worksheet\\_reader.py:329: UserWarning: Data Validation extension is not supported and will be removed\n",
      "  warn(msg)\n"
     ]
    }
   ],
   "source": [
    "# traer de excel\n",
    "\n",
    "profesores: list[Profesor] = []\n",
    "\n",
    "df = pd.read_excel(input, sheet_name=\"profesores\")\n",
    "\n",
    "for i in range(len(df)):\n",
    "    nombre = df[\"Profesor\"][i]\n",
    "    nombre_completo = df[\"Nombre\"][i]\n",
    "    id = df[\"ID\"][i]\n",
    "    cedula = df[\"Cedula\"][i]\n",
    "    mail = df[\"Mail\"][i]\n",
    "\n",
    "    min_max_dias = df[\"Min/Max dias\"][i]\n",
    "    if min_max_dias not in [\"min\", \"max\"]:\n",
    "        min_max_dias = None\n",
    "        \n",
    "    if isinstance(nombre, str):\n",
    "        add_profesor(profesores, int(id), nombre, min_max_dias, nombre_completo, cedula, mail)\n",
    "\n",
    "profesores_ids = []\n",
    "for p in profesores:\n",
    "    profesores_ids.append(p.id)\n",
    "\n",
    "PROFESORES = profesores\n"
   ]
  },
  {
   "cell_type": "code",
   "execution_count": 357,
   "metadata": {},
   "outputs": [],
   "source": [
    "# # traer de base de datos\n",
    "\n",
    "# profesores = []\n",
    "\n",
    "# for nombre, nombre_completo, min_max_dias, prioridades in read_profesores(get_database_connection()):\n",
    "\n",
    "#     add_profesor(profesores, nombre, min_max_dias, nombre_completo)\n",
    "    \n",
    "#     profesores[-1].set_prioridades(bloques_horario, [\n",
    "#         [[id, int(valor)] for id, b in bloques_horario.items() if b.dia.nombre == dia and b.horario.inicio == hora_inicio][0]\n",
    "#         for dia, hora_inicio, valor in prioridades\n",
    "#     ])\n",
    "\n",
    "# profesores_ids = [p.id for p in profesores]\n",
    "\n",
    "# PROFESORES = profesores\n"
   ]
  },
  {
   "cell_type": "code",
   "execution_count": 358,
   "metadata": {},
   "outputs": [],
   "source": [
    "# prioridades fijas\n",
    "\n",
    "for p in profesores:\n",
    "    p.set_prioridades(bloques_horario, fixed_pr(bloques_horario, 1)) # prioridad = 1 para todos los casos\n",
    "    "
   ]
  },
  {
   "cell_type": "code",
   "execution_count": 359,
   "metadata": {},
   "outputs": [
    {
     "name": "stdout",
     "output_type": "stream",
     "text": [
      "as, ab, ap, ac, ape, am, ame, api, apa, bt, ca, cb, cp, cr, dc, dj, da, ds, dl, dv, el, ep, fn, fr, gc, gb, gba, gr, gs, gco, gp, hr, ig, jb, jp, jc, jd, jg, jcc, jdm, jk, jpf, jpe, jpa, lg, ma, mb, mf, mp, mz, mr, mjc, mpe, mg, mbo, mpr, mri, md, nd, nn, pn, pp, ps, sb, sp, svv, sgp, sv, vr, wc\n"
     ]
    }
   ],
   "source": [
    "print(*[p for p in profesores], sep=\", \")"
   ]
  },
  {
   "cell_type": "markdown",
   "metadata": {},
   "source": [
    "### Grupos"
   ]
  },
  {
   "cell_type": "code",
   "execution_count": 360,
   "metadata": {},
   "outputs": [],
   "source": [
    "#grupos\n",
    "\"\"\"\n",
    "This script processes an Excel file containing group information and populates a list of group objects.\n",
    "Functions:\n",
    "    add_grupo(grupos, *args): Adds a group to the list of groups.\n",
    "Variables:\n",
    "    grupos (list): A list to store group objects.\n",
    "    df (DataFrame): DataFrame containing the data read from the Excel file.\n",
    "    grupos_ids (list): A list to store the IDs of the groups.\n",
    "Workflow:\n",
    "1. Read the Excel file input from the sheet named \"grupos\" into a DataFrame.\n",
    "2. Iterate over each row in the DataFrame and extract relevant information.\n",
    "3. Append extracted information to a list of arguments.\n",
    "4. Replace 'nan' values with None and attempt to convert arguments to integers.\n",
    "5. Call the add_grupo function with the list of arguments to add a group to the grupos list.\n",
    "6. Populate the grupos_ids list with the IDs of the groups.\n",
    "\"\"\"\n",
    "grupos: list[Grupo] = []\n",
    "\n",
    "\n",
    "df = pd.read_excel(input, sheet_name=\"grupos\")\n",
    "\n",
    "for i in range(len(df)):\n",
    "    \n",
    "    args = []\n",
    "    args.append(df[\"Año\"][i])  # anio\n",
    "    args.append(df[\"Turno\"][i])     # turno\n",
    "    args.append(df[\"Carrera\"][i])   # carrera\n",
    "    args.append(df[\"Particion\"][i])  # particion\n",
    "    args.append(isinstance(df[\"Recurse\"][i], str)) # recurse\n",
    "\n",
    "    for i in range(0, len(args)):\n",
    "        \n",
    "        if str(args[i]) == \"nan\":\n",
    "            args[i] = None\n",
    "\n",
    "        try:\n",
    "            args[i] = int(args[i])\n",
    "        except:\n",
    "            pass\n",
    "\n",
    "    add_grupo(grupos, *args)\n",
    "\n",
    "grupos_ids = [g.id for g in grupos]\n",
    "\n",
    "GRUPOS = grupos"
   ]
  },
  {
   "cell_type": "code",
   "execution_count": 361,
   "metadata": {},
   "outputs": [
    {
     "name": "stdout",
     "output_type": "stream",
     "text": [
      "11 12 13 1REC1 1REC2 1LINF 2CIV 2IND 2TEL 2INF 2DIA 2LINF 3CIV 3IND 3TEL 3INF1 3INF2 3LINF 4CIV 4IND 4TEL 4INF 4LINF 5CIV 5IND 5TEL 5INF\n"
     ]
    }
   ],
   "source": [
    "print(*[str(g) for g in grupos])"
   ]
  },
  {
   "cell_type": "code",
   "execution_count": 362,
   "metadata": {},
   "outputs": [],
   "source": [
    "anios = list(set([g.anio for g in grupos if g.anio != None]))  # anios\n",
    "\n",
    "ANIOS = anios\n"
   ]
  },
  {
   "cell_type": "markdown",
   "metadata": {},
   "source": [
    "### Materias "
   ]
  },
  {
   "cell_type": "code",
   "execution_count": 363,
   "metadata": {},
   "outputs": [
    {
     "name": "stderr",
     "output_type": "stream",
     "text": [
      "c:\\Python312\\Lib\\site-packages\\openpyxl\\worksheet\\_reader.py:329: UserWarning: Data Validation extension is not supported and will be removed\n",
      "  warn(msg)\n"
     ]
    }
   ],
   "source": [
    "#materias\n",
    "\"\"\"\n",
    "This script processes an Excel file containing information about various subjects (materias) and extracts relevant details to create a list of subjects.\n",
    "The script performs the following steps:\n",
    "1. Reads the Excel file input from the sheet named \"materias\".\n",
    "2. Iterates through each row of the DataFrame to extract subject details.\n",
    "3. For each subject, it extracts the name, hourly load, number of days per week, and the number of professors.\n",
    "4. It then attempts to extract the names of the professors and groups associated with each subject.\n",
    "5. Finally, it adds the subject to the list of subjects using the `add_materia` function.\n",
    "Variables:\n",
    "- materias: A list to store the details of each subject.\n",
    "- df: DataFrame containing the data read from the Excel file.\n",
    "- nombre: The name of the subject.\n",
    "- carga_horaria: The hourly load of the subject.\n",
    "- cantidad_dias: The number of days per week the subject is taught.\n",
    "- cantidad_profesores: The number of professors teaching the subject.\n",
    "- profs: A list to store the names of the professors.\n",
    "- gs: A list to store the names of the groups.\n",
    "Functions:\n",
    "- add_materia: Adds a subject to the list of subjects.\n",
    "- lista_grupos: Processes and returns a list of groups.\n",
    "- lista_profesores: Processes and returns a list of professors.\n",
    "\"\"\"\n",
    "\n",
    "materias: list[Materia] = []\n",
    "\n",
    "df = pd.read_excel(input, sheet_name=\"materias\")\n",
    "\n",
    "# print(df)\n",
    "\n",
    "for i in range(len(df)):\n",
    "\n",
    "    nombre = df[\"Materia\"][i]\n",
    "    nombre_completo = df[\"Nombre completo\"][i]\n",
    "    if not isinstance(nombre, str):\n",
    "        continue # cancel if no name is provided\n",
    "\n",
    "    id = df[\"ID\"][i]\n",
    "\n",
    "    carga_horaria = df[\"Carga Horaria\"][i]\n",
    "    cantidad_dias = df[\"Días por semana\"][i]\n",
    "    electiva = isinstance(df[\"Electiva\"][i], str)\n",
    "    teo_prac = df[\"Teo/ Prac\"][i]\n",
    "    if teo_prac not in [\"teo\", \"prac\"]:\n",
    "        teo_prac = None\n",
    "    \n",
    "    try:\n",
    "        cantidad_profesores = int(df[\"Cantidad profesores\"][i])\n",
    "    except:\n",
    "        cantidad_profesores = 1 # default value\n",
    "\n",
    "    profs = []\n",
    "    p = 1\n",
    "    while True:\n",
    "        try:\n",
    "            new_p = df[\"Profesor \" + str(p)][i]\n",
    "            if isinstance(new_p, str):\n",
    "                profs.append(new_p)\n",
    "            p += 1\n",
    "        except:\n",
    "            break\n",
    "\n",
    "    gs = []\n",
    "    g = 1\n",
    "    while True:\n",
    "        try:\n",
    "            new_g = df[\"Grupo \" + str(g)][i]\n",
    "            if isinstance(new_g, str):\n",
    "                gs.append(new_g)\n",
    "            g += 1\n",
    "        except:\n",
    "            break\n",
    "\n",
    "    \n",
    "    \n",
    "    # gs = lista_grupos(grupos, [x.strip() for x in str(df[\"Grupos\"][i]).split(',')])\n",
    "    # profs = lista_profesores(profesores, [x.strip() for x in str(df[\"Profesores\"][i]).split(',')])\n",
    "\n",
    "    add_materia(materias, int(id), nombre, nombre_completo, carga_horaria, cantidad_dias, lista_grupos(grupos, gs), lista_profesores(profesores, profs), cantidad_profesores, electiva, teo_prac)\n",
    "\n",
    "\n",
    "materias_ids = [m.id for m in materias]\n",
    "\n",
    "MATERIAS = materias\n"
   ]
  },
  {
   "cell_type": "code",
   "execution_count": 364,
   "metadata": {},
   "outputs": [],
   "source": [
    "# # print(*[f\"{m}: {[str(p) for p in m.profesores]}\" for m in materias], sep=\"\\n\")\n",
    "\n",
    "# for p in profesores:\n",
    "#     print(f\"{p}: {[str(m) for m in materias if p in m.profesores]}\")"
   ]
  },
  {
   "cell_type": "code",
   "execution_count": 365,
   "metadata": {},
   "outputs": [
    {
     "name": "stderr",
     "output_type": "stream",
     "text": [
      "c:\\Python312\\Lib\\site-packages\\openpyxl\\worksheet\\_reader.py:329: UserWarning: Data Validation extension is not supported and will be removed\n",
      "  warn(msg)\n"
     ]
    }
   ],
   "source": [
    "# materias por profesor:\n",
    "\"\"\"\n",
    "This script processes an Excel file containing information about professors and their respective subjects.\n",
    "It reads the data from the specified sheet and updates the list of subjects for each professor.\n",
    "Steps:\n",
    "1. Load the Excel file \"input.xlsm\" and read the sheet named \"profesores\" into a DataFrame.\n",
    "2. Iterate through each row of the DataFrame to extract professor names and their subjects.\n",
    "3. For each professor, gather the subjects they teach along with the maximum number of groups for each subject.\n",
    "4. Update the professor's list of subjects using the `search_profesor_by_nombre` function.\n",
    "Variables:\n",
    "- df: DataFrame containing the data from the Excel sheet.\n",
    "- nombre: Name of the professor.\n",
    "- lista_mats: List of dictionaries, each containing the subject name and the maximum number of groups.\n",
    "- m: Counter for the subject columns in the DataFrame.\n",
    "- new_m: Name of the subject being processed.\n",
    "- grupos_max: Maximum number of groups for the subject.\n",
    "- prof: Professor object found using the `search_profesor_by_nombre` function.\n",
    "Functions:\n",
    "- search_profesor_by_nombre(profesores, nombre): Searches for a professor by name in the given list of professors.\n",
    "Note:\n",
    "- The script assumes that the Excel file and sheet structure are consistent with the expected format.\n",
    "- The `search_profesor_by_nombre` function and other commented-out functions need to be defined elsewhere in the codebase.\n",
    "\"\"\"\n",
    "df = pd.read_excel(input, sheet_name=\"profesores\")\n",
    "\n",
    "for i in range(len(df)):\n",
    "    nombre = df[\"Profesor\"][i]\n",
    "\n",
    "    lista_mats = []\n",
    "    m = 1\n",
    "    while True:\n",
    "        try:\n",
    "            new_m = df[\"Materia \" + str(m)][i]\n",
    "            \n",
    "            if isinstance(new_m, str):\n",
    "                grupos_max = int(df[\"Grupos materia \" + str(m)][i])\n",
    "                lista_mats.append({\"nombre_materia\" : new_m, \"grupos_max\" : grupos_max})\n",
    "            m += 1\n",
    "        except:\n",
    "            break\n",
    "    \n",
    "    prof = search_profesor_by_nombre(profesores, nombre)\n",
    "    if not prof is None:\n",
    "        prof.lista_materias = lista_mats\n",
    "\n",
    "\n",
    "    # add_materia(materias, id, nombre, carga_horaria, cantidad_dias, lista_grupos(grupos, gs), lista_profesores(profesores, profs))\n"
   ]
  },
  {
   "cell_type": "code",
   "execution_count": 366,
   "metadata": {},
   "outputs": [],
   "source": [
    "# for p in profesores:\n",
    "#     print(f\"{p}: {[str(m) for m in materias if p in m.profesores]} =? {[f\"{m['nombre_materia'], m['grupos_max']}\" for m in p.lista_materias]}\")"
   ]
  },
  {
   "cell_type": "code",
   "execution_count": 367,
   "metadata": {},
   "outputs": [],
   "source": [
    "## cargar a la base de datos\n",
    "connection = get_database_connection()\n",
    "write_profesores(connection, profesores)\n",
    "write_materias(connection, materias, profesores)\n"
   ]
  },
  {
   "cell_type": "markdown",
   "metadata": {},
   "source": [
    "### Superposicion"
   ]
  },
  {
   "cell_type": "code",
   "execution_count": 368,
   "metadata": {},
   "outputs": [],
   "source": [
    "# superposicion\n",
    "\"\"\"\n",
    "Calculates the overlap between pairs of subjects and stores the results in a dictionary.\n",
    "\n",
    "This script iterates over all pairs of subjects in the `materias` list and calculates the overlap \n",
    "between each pair using the `calcular_super` function. The results are stored in the `superposicion` \n",
    "dictionary, where the keys are tuples of subject IDs and the values are the calculated overlaps.\n",
    "\n",
    "Variables:\n",
    "    superposicion (dict): A dictionary to store the overlap results between pairs of subjects.\n",
    "    materias (list): A list of subject objects, each with an `id` attribute.\n",
    "\n",
    "Functions:\n",
    "    calcular_super(m1, m2): A function that takes two subject objects and returns the overlap between them.\n",
    "\n",
    "Dictionary Structure:\n",
    "    superposicion[(m1.id, m2.id)] = overlap_value\n",
    "\"\"\"\n",
    "superposicion: dict[tuple, Superposicion] = {}\n",
    "\n",
    "for m1 in materias:\n",
    "    for m2 in materias:\n",
    "        superposicion[(m1.id, m2.id)] = calcular_super(m1, m2)\n",
    "\n"
   ]
  },
  {
   "cell_type": "code",
   "execution_count": 369,
   "metadata": {},
   "outputs": [],
   "source": [
    "\n",
    "# CASO PARTICULAR: permitir superposicion de Estadistica Aplicada con Metodologia de la Investigacion\n",
    "fix_super(0, superposicion,\n",
    "            [m for m in materias if m.nombre == \"EA\"],\n",
    "            [m for m in materias if m.nombre == \"MInv\"]\n",
    "            )\n"
   ]
  },
  {
   "cell_type": "markdown",
   "metadata": {},
   "source": [
    "### Electivas\n",
    "\n",
    "Fijar superposicion = 0 (permitir superposicion)"
   ]
  },
  {
   "cell_type": "code",
   "execution_count": 370,
   "metadata": {},
   "outputs": [],
   "source": [
    "for e in electivas(materias):\n",
    "    fix_super(0, superposicion, [e], electivas(materias))\n",
    "\n",
    "SUPERPOSICION = superposicion"
   ]
  },
  {
   "cell_type": "code",
   "execution_count": 371,
   "metadata": {},
   "outputs": [],
   "source": [
    "superposicion_electivas: dict[tuple, Superposicion] = {}\n",
    "\n",
    "for m1 in electivas(materias):\n",
    "    for m2 in electivas(materias):\n",
    "        superposicion_electivas[(m1.id, m2.id)] = calcular_super(m1, m2)"
   ]
  },
  {
   "cell_type": "code",
   "execution_count": 372,
   "metadata": {},
   "outputs": [],
   "source": [
    "# automatizar:\n",
    "# df = pd.read_excel(input, sheet_name=\"electivas\")\n",
    "\n",
    "# for r in range(len(df)):\n",
    "\n",
    "#     try:\n",
    "#         mat1 = search_materias_by_nombre(materias, str(df[\"Materia\"][r]))[0]\n",
    "#     except:\n",
    "#         continue\n",
    "\n",
    "#     for c in df.columns:\n",
    "\n",
    "#         try:\n",
    "#             mat2 = search_materias_by_nombre(materias, str(c))[0]\n",
    "            \n",
    "#             if isinstance(df[c][r], str):\n",
    "#                 superposicion[(mat1.id, mat2.id)] = Superposicion(0, mat1, mat2)\n",
    "#                 print(mat1, mat2)\n",
    "#         except:\n",
    "#             continue\n",
    "\n"
   ]
  },
  {
   "cell_type": "code",
   "execution_count": 373,
   "metadata": {},
   "outputs": [],
   "source": [
    "\n",
    "# permitir superposicion de electivas entre si\n",
    "# fix_super(0, superposicion_electivas, search_materias_by_nombre(electivas(materias), \"AgroN\"), electivas(materias))\n",
    "\n",
    "\n",
    "SUPERPOSICION_ELECTIVAS = superposicion_electivas"
   ]
  },
  {
   "cell_type": "code",
   "execution_count": 374,
   "metadata": {},
   "outputs": [
    {
     "name": "stdout",
     "output_type": "stream",
     "text": [
      "Grupos: 27\n",
      "Materias: 116\n",
      "Profesores: 70\n"
     ]
    }
   ],
   "source": [
    "print(\"Grupos:\", len(grupos))\n",
    "# print([str(i) for i in grupos])\n",
    "print(\"Materias:\", len(materias))\n",
    "# print([str(i) for i in materias])\n",
    "print(\"Profesores:\", len(profesores))\n",
    "# print([str(i) for i in profesores])"
   ]
  },
  {
   "cell_type": "markdown",
   "metadata": {},
   "source": [
    "## (2) Variables\n",
    "\n",
    "\n",
    "$$ u_{mb} \\in \\{0,1\\} $$\n",
    "\n",
    "    m: materia\n",
    "    b: bloque horario = [dh]: dia y hora\n",
    "\n",
    "$$ v_{md} \\in \\{0,1\\} $$\n",
    "\n",
    "    m: materia\n",
    "    d: dia\n",
    "\n",
    "$$ w_{mp} \\in \\{0,1\\} $$\n",
    "\n",
    "    m: materia\n",
    "    p: profesor\n",
    "\n",
    "\n",
    "$$ x_{gb} \\in \\{0,1\\} $$\n",
    "\n",
    "    g: grupo\n",
    "    b: bloque horario = [dh]: dia y hora\n",
    "\n",
    "$$ y_{pb} \\in \\{0,1\\} $$\n",
    "\n",
    "    p: profesor\n",
    "    b: bloque horario = [dh]: dia y hora\n",
    "\n",
    "$$ z_{pd} \\in \\{0,1\\} $$\n",
    "\n",
    "    p: profesor\n",
    "    d: dia"
   ]
  },
  {
   "cell_type": "code",
   "execution_count": 375,
   "metadata": {},
   "outputs": [
    {
     "name": "stdout",
     "output_type": "stream",
     "text": [
      "116\n",
      "80\n"
     ]
    }
   ],
   "source": [
    "print(len(materias))\n",
    "print(len(bloques_horario))"
   ]
  },
  {
   "cell_type": "markdown",
   "metadata": {},
   "source": [
    "## (3) Restricciones"
   ]
  },
  {
   "cell_type": "markdown",
   "metadata": {},
   "source": [
    "### (3.1) Materias"
   ]
  },
  {
   "cell_type": "markdown",
   "metadata": {},
   "source": [
    "#### (3.1.1) superposicion (redundante con la definicion de la variable x)\n",
    "$$ \\sum_{b} \\sum_{m, m'}{u_{mb} \\times S_{m,m'} \\times u_{m'b}} = 0 $$\n"
   ]
  },
  {
   "cell_type": "code",
   "execution_count": 376,
   "metadata": {},
   "outputs": [],
   "source": [
    "\"\"\"\n",
    "    This code defines constraints to ensure that no two subjects (materias) overlap\n",
    "    in the same time block (bloque horario).\n",
    "    Constraints:\n",
    "        1. For each time block (b) in bloques_horario_ids, the sum of the product of the decision variables \n",
    "        (u_dict[m1, b].variable and u_dict[m2, b].variable) and the overlap value (superposicion[(m1, m2)].value)\n",
    "        for all pairs of subjects (m1, m2) must be equal to 0.\n",
    "\"\"\"\n",
    "\n",
    "def constr_superposicion(model, u_dict):\n",
    "\n",
    "    model.addConstrs(gp.quicksum(u_dict[m1, b].variable * superposicion[(m1, m2)].value * u_dict[m2, b].variable\n",
    "                            for m1 in materias_ids for m2 in materias_ids)\n",
    "                == 0 for b in bloques_horario_ids)\n",
    "\n",
    "\n",
    "## for g in grupos:\n",
    "##     mats = materias_grupo(g, materias)\n",
    "##     if len(mats) > 1:\n",
    "##         # model.addConstrs(gp.quicksum(u_dict[m.id, b].variable for m in mats) <= 1 for b in bloques_horario_ids)\n",
    "##         model.addConstrs(gp.quicksum(u_dict[m.id, b].variable for m in mats) <= 1 for b in bloques_horario_ids)\n"
   ]
  },
  {
   "cell_type": "code",
   "execution_count": 377,
   "metadata": {},
   "outputs": [],
   "source": [
    "# print(*[[str(m), m.cantidad_dias] for m in materias], sep=\"\\n\")"
   ]
  },
  {
   "cell_type": "markdown",
   "metadata": {},
   "source": [
    "#### (3.1.2) cubrir carga horaria para cada materia\n",
    "$$ \\sum_b{u_{mb}} = C_m $$\n",
    "\n",
    "    para todo m (c_m: carga horaria)"
   ]
  },
  {
   "cell_type": "code",
   "execution_count": 378,
   "metadata": {},
   "outputs": [],
   "source": [
    "def constr_carga_horaria(model, u_dict):\n",
    "    for m in materias:\n",
    "        model.addConstr(gp.quicksum(u_dict[m.id, b].variable for b in bloques_horario_ids) == m.carga_horaria)"
   ]
  },
  {
   "cell_type": "markdown",
   "metadata": {},
   "source": [
    "#### (3.1.3) particion de horas por materia"
   ]
  },
  {
   "cell_type": "markdown",
   "metadata": {},
   "source": [
    "##### (3.1.3.1) fijar cantidad de dias por materia\n",
    "\n",
    "$$ \\sum_d {v_{md}} = D_m $$\n",
    "\n",
    "    para todo m"
   ]
  },
  {
   "cell_type": "code",
   "execution_count": 379,
   "metadata": {},
   "outputs": [],
   "source": [
    "def constr_dias_materia(model, v_dict):\n",
    "    for m in materias:\n",
    "        model.addConstr(gp.quicksum(v_dict[m.id, d].variable for d in dias_ids) == m.cantidad_dias)"
   ]
  },
  {
   "cell_type": "markdown",
   "metadata": {},
   "source": [
    "##### (3.1.3.2) fijar maximo y minimo de horas por dia\n",
    "\n",
    "$$ v_{md} \\times {H_{MIN}}_m \\leq \\sum_h {u_{mdh}} \\leq v_{md} \\times {H_{MAX}}_m $$\n",
    "\n",
    "    para todo m, d"
   ]
  },
  {
   "cell_type": "code",
   "execution_count": 380,
   "metadata": {},
   "outputs": [],
   "source": [
    "def constr_max_min_horas(model, u_dict, v_dict):\n",
    "\n",
    "    for m in materias:\n",
    "\n",
    "        model.addConstrs(gp.quicksum(u_dict[(m.id,(d,h))].variable for h in horarios_ids)\n",
    "                        <= m.horas_max() * v_dict[m.id,d].variable for d in dias_ids)\n",
    "        \n",
    "        model.addConstrs(gp.quicksum(u_dict[(m.id,(d,h))].variable for h in horarios_ids)\n",
    "                        >= m.horas_min() * v_dict[m.id,d].variable for d in dias_ids)\n",
    "    "
   ]
  },
  {
   "cell_type": "markdown",
   "metadata": {},
   "source": [
    "##### (3.1.3.3) fijar materia a turno de horarios\n",
    "\n",
    "$$ u_{mb} = 0 $$\n",
    "\n",
    "    para todo b fuera de m.turnos\n",
    "    para todo m\n",
    "\n"
   ]
  },
  {
   "cell_type": "code",
   "execution_count": 381,
   "metadata": {},
   "outputs": [],
   "source": [
    "def constr_turnos_materia(model, u_dict):\n",
    "\n",
    "    for m in materias:\n",
    "        no_bloques_materia_ids = [b for b in bloques_horario if b not in bloques_horario_materia(m, bloques_horario)]\n",
    "        # for b in bloques_horario:\n",
    "        #     bloques_horario_materia(m, bloques_horario)\n",
    "        #     if len([t for t in bloques_horario[b].horario.turnos if t in m.turnos()]) == 0:\n",
    "        #         no_bloques_materia_ids.append(b)\n",
    "        model.addConstrs(u_dict[m.id, b].variable == 0 for b in no_bloques_materia_ids)\n"
   ]
  },
  {
   "cell_type": "markdown",
   "metadata": {},
   "source": [
    "#### (3.1.4) horas consecutivas dentro de un dia\n",
    "\n",
    "$$ \\sum_h {u_{mdh}} - \\sum_h {u_{md(h)} · u_{md(h+1)}} = v_{md} $$\n",
    "    para todo m, d"
   ]
  },
  {
   "cell_type": "code",
   "execution_count": 382,
   "metadata": {},
   "outputs": [],
   "source": [
    "def constr_horas_consecutivas(model, u_dict, v_dict):\n",
    "\n",
    "    model.addConstrs(gp.quicksum(u_dict[(m,(d,h))].variable for h in horarios_ids)\n",
    "                 - gp.quicksum(u_dict[(m,(d,h))].variable * u_dict[(m,(d,h+1))].variable for h in horarios_ids[0:-1])\n",
    "                 == v_dict[m, d].variable for m in materias_ids for d in dias_ids)"
   ]
  },
  {
   "cell_type": "markdown",
   "metadata": {},
   "source": [
    "Alternativa:\n",
    "$$ \\sum_h {u_{mdh}} - \\sum_h {u_{md(h)} · u_{md(h+1)}} \\leq 1 $$\n",
    "    para todo m, d"
   ]
  },
  {
   "cell_type": "markdown",
   "metadata": {},
   "source": [
    "#### (3.1.5) evitar dias consecutivos para una misma materia\n",
    "\n",
    "$$ \\sum_m \\sum_d {v_{m(d)} · v_{m(d+1)}} = 0 $$\n"
   ]
  },
  {
   "cell_type": "code",
   "execution_count": 383,
   "metadata": {},
   "outputs": [],
   "source": [
    "def constr_dias_consecutivos(model, v_dict):\n",
    "    model.addConstrs(gp.quicksum(v_dict[m,d].variable * v_dict[m,d+1].variable for d in dias_ids[0:-1]) == 0\n",
    "                #  for m in materias_ids)\n",
    "                 for m in [mat.id for mat in materias if not mat.electiva])\n"
   ]
  },
  {
   "cell_type": "markdown",
   "metadata": {},
   "source": [
    "#### (3.1.6) indisponibilidad de materia (opcional)\n",
    "\n",
    "$$ u_{mb} = 0 $$\n",
    "\n",
    "    para todo m sin disponibilidad en b"
   ]
  },
  {
   "cell_type": "code",
   "execution_count": 384,
   "metadata": {},
   "outputs": [],
   "source": [
    "def constr_no_disponible_materia(model, u_dict):\n",
    "    for m in materias:\n",
    "        for b in m.no_disponible:\n",
    "            model.addConstr(u_dict[m.id, b.id].variable == 0)"
   ]
  },
  {
   "cell_type": "markdown",
   "metadata": {},
   "source": [
    "### (3.2) Profesores"
   ]
  },
  {
   "cell_type": "markdown",
   "metadata": {},
   "source": [
    "#### (3.2.1) indisponibilidad\n",
    "\n",
    "$$ \\sum_m w_{mp} \\times u_{mb} = 0 $$\n",
    "\n",
    "    para todo p sin disponibilidad en b"
   ]
  },
  {
   "cell_type": "code",
   "execution_count": 385,
   "metadata": {},
   "outputs": [],
   "source": [
    "def constr_no_disponible_profesor(model, u_dict, w_dict):\n",
    "    for m in materias:\n",
    "        for p in m.profesores:\n",
    "            for b in p.no_disponible:\n",
    "                model.addConstr(u_dict[m.id, b.id].variable * w_dict[m.id, p.id].variable == 0)"
   ]
  },
  {
   "cell_type": "markdown",
   "metadata": {},
   "source": [
    "LINEALIZAR: SUSTITUIR CON VARIABLES y_pb\n",
    "\n",
    "$$ y_{pb} = 0 $$\n",
    "\n",
    "    para todo p sin disponibilidad en b"
   ]
  },
  {
   "cell_type": "code",
   "execution_count": 386,
   "metadata": {},
   "outputs": [],
   "source": [
    "def constr_no_disponible_profesor_lineal(model, y_dict):\n",
    "    for p in profesores:\n",
    "        for b in p.no_disponible:\n",
    "            model.addConstr(y_dict[p.id, b.id].variable == 0)"
   ]
  },
  {
   "cell_type": "markdown",
   "metadata": {},
   "source": [
    "#### (3.2.2) unica materia por profesor para un mismo bloque horario\n",
    "\n",
    "$$ \\sum_{m} {w_{mp} \\times u_{mb}} \\leq 1 $$\n",
    "\n",
    "    para todo b, p"
   ]
  },
  {
   "cell_type": "markdown",
   "metadata": {},
   "source": [
    "REDUNDANTE CON DEFINICION DE y_pb"
   ]
  },
  {
   "cell_type": "code",
   "execution_count": 387,
   "metadata": {},
   "outputs": [],
   "source": [
    "def constr_unica_materia_profesor(model, u_dict, w_dict):\n",
    "\n",
    "    p_grupos_simultaneos = [\"rs\", \"er\", \"dd\", \"ns\", \"jl\", \"fb\"]\n",
    "\n",
    "    for p in [p for p in profesores if p.nombre not in p_grupos_simultaneos]:\n",
    "        model.addConstrs(gp.quicksum(u_dict[m, b].variable * w_dict[m, p.id].variable for m in materias_ids)\n",
    "                     <= 1 for b in bloques_horario_ids)\n",
    "        \n",
    "    # caso particular\n",
    "    for p in [p for p in profesores if p.nombre in p_grupos_simultaneos]:\n",
    "        model.addConstrs(gp.quicksum(u_dict[m, b].variable * w_dict[m, p.id].variable for m in materias_ids)\n",
    "                     <= 2 for b in bloques_horario_ids)"
   ]
  },
  {
   "cell_type": "markdown",
   "metadata": {},
   "source": [
    "#### (3.2.3) profesores por materia\n"
   ]
  },
  {
   "cell_type": "markdown",
   "metadata": {},
   "source": [
    "##### (3.2.3.1) limitar profesores a lista\n",
    "\n",
    "$$ w_{mp} = 0 $$\n",
    "\n",
    "    para todo p not in m.lista_profesores\n",
    "    para todo m"
   ]
  },
  {
   "cell_type": "code",
   "execution_count": 388,
   "metadata": {},
   "outputs": [],
   "source": [
    "def constr_limitar_profesores_materia(model, w_dict):\n",
    "    \n",
    "    for m in materias:\n",
    "        for p in profesores:\n",
    "            if p not in m.profesores:\n",
    "                model.addConstr(w_dict[m.id, p.id].variable == 0)"
   ]
  },
  {
   "cell_type": "markdown",
   "metadata": {},
   "source": [
    "##### (3.2.3.2) cantidad de profesores para una misma materia\n",
    "\n",
    "$$ \\sum_p {w_{mp}} = P_m $$\n",
    "\n",
    "    para todo m"
   ]
  },
  {
   "cell_type": "code",
   "execution_count": 389,
   "metadata": {},
   "outputs": [],
   "source": [
    "def constr_cantidad_profesores(model, w_dict):\n",
    "    for m in materias:\n",
    "        model.addConstr(gp.quicksum(w_dict[m.id, p].variable for p in profesores_ids) == m.cantidad_profesores)"
   ]
  },
  {
   "cell_type": "markdown",
   "metadata": {},
   "source": [
    "#### (3.2.4) carga horaria por docente: limitar la cantidad de materias por profesor\n",
    "\n",
    "\n",
    "$$ \\sum_m {w_{mp}} \\leq K_p $$\n",
    "\n",
    "    para todo p\n",
    "\n"
   ]
  },
  {
   "cell_type": "code",
   "execution_count": 390,
   "metadata": {},
   "outputs": [],
   "source": [
    "# separar por nombre de materia\n",
    "def constr_grupos_max_profesor(model, w_dict):\n",
    "    for p in profesores:\n",
    "        for l in p.lista_materias:\n",
    "            mats = search_materias_by_nombre(materias, l[\"nombre_materia\"])\n",
    "            if len(mats) > 0:\n",
    "                model.addConstr(gp.quicksum(w_dict[m.id, p.id].variable for m in mats) <= l[\"grupos_max\"])\n",
    "        "
   ]
  },
  {
   "cell_type": "markdown",
   "metadata": {},
   "source": [
    "#### (3.2.5) definicion de variable \"y\" (asignacion horario-profesor)\n",
    "\n",
    "$$ y_{pb} = \\sum_m{u_{mb}·w_{mp}} $$\n",
    "\n",
    "$$ y_{pb} = \\text{OR}_m \\{u_{mb}·w_{mp}\\} $$\n",
    "\n",
    "    para todo p, b"
   ]
  },
  {
   "cell_type": "code",
   "execution_count": 391,
   "metadata": {},
   "outputs": [],
   "source": [
    "def constr_definir_y(model, y_dict, u_dict, w_dict):\n",
    "\n",
    "    for p in profesores:\n",
    "        uw_vars = {} # variable auxiliar = u_mb·w_mp\n",
    "        mats_p = materias_profesor(p, materias)\n",
    "        for m in mats_p:\n",
    "            # for b_id in bloques_horario_materia(m, bloques_horario):\n",
    "            for b_id in bloques_horario_ids:\n",
    "                uw_vars[m.id,b_id] = model.addVar(vtype=GRB.INTEGER, name=str(m)+str(b_id)+str(p)+\"_uw\")\n",
    "                model.addConstr(uw_vars[m.id,b_id] == u_dict[m.id,b_id].variable * w_dict[m.id,p.id].variable)\n",
    "        \n",
    "        mats_p_ids = [m.id for m in mats_p]\n",
    "        model.addConstrs(y_dict[p.id,b_id].variable ==\n",
    "                     gp.or_(uw_vars[m_id,b_id] for m_id in mats_p_ids)\n",
    "                     for b_id in bloques_horario_ids)\n",
    "    \n",
    "    # model.addConstrs(y_dict[p, b].variable ==\n",
    "    #              gp.quicksum(u_dict[m,b].variable * w_dict[m,p].variable for m in materias_ids)\n",
    "    #              for b in bloques_horario_ids for p in profesores_ids)"
   ]
  },
  {
   "cell_type": "markdown",
   "metadata": {},
   "source": [
    "#### (3.2.6) definicion de variable \"z\" (para dias con clase por profesor)\n",
    "\n",
    "$$ z_{pd} = OR_h{y_{p(dh)}} $$\n",
    "\n",
    "    para todo p, d"
   ]
  },
  {
   "cell_type": "code",
   "execution_count": 392,
   "metadata": {},
   "outputs": [],
   "source": [
    "def constr_definir_z(model, z_dict, y_dict):\n",
    "    \n",
    "    model.addConstrs(z_dict[p,d].variable ==\n",
    "                gp.or_(y_dict[p,(d,h)].variable for h in horarios_ids)\n",
    "                for p in profesores_ids for d in dias_ids)"
   ]
  },
  {
   "cell_type": "markdown",
   "metadata": {},
   "source": [
    "Posible linealizacion:\n",
    "\n",
    "$$ z_{pd} \\leq \\sum_h {y_{pdh}} \\leq M \\times z_{pd} $$\n",
    "\n",
    "    para todo m, d\n"
   ]
  },
  {
   "cell_type": "code",
   "execution_count": 393,
   "metadata": {},
   "outputs": [],
   "source": [
    "# for p in profesores:\n",
    "\n",
    "#     model.addConstrs(gp.quicksum(y_dict[p.id, (d,h)].variable for h in horarios_ids)\n",
    "#                      <= 10 * z_dict[p.id,d].variable for d in dias_ids)\n",
    "    \n",
    "#     model.addConstrs(gp.quicksum(y_dict[p.id, (d,h)].variable for h in horarios_ids)\n",
    "#                      >= z_dict[p.id,d].variable for d in dias_ids)"
   ]
  },
  {
   "cell_type": "markdown",
   "metadata": {},
   "source": [
    "#### (3.2.7) limitar la cantidad de horas diarias por profesor (NO VA)\n",
    "\n",
    "\n",
    "$$ \\sum_{m,h} {w_{mp}·u_{mdh}} \\leq {HD}_p $$\n",
    "\n",
    "    para todo p, d\n"
   ]
  },
  {
   "cell_type": "code",
   "execution_count": 394,
   "metadata": {},
   "outputs": [],
   "source": [
    "# FALTA CHEQUEAR\n",
    "\n",
    "# for p in profesores:\n",
    "#     if not p.horas_max is None:\n",
    "#         # mats = [search_materias_by_nombre(materias, m).id for m in p.materias()]\n",
    "#         model.addConstrs(gp.quicksum(\n",
    "#             w_dict[m, p.id].variable * u_dict[m,(d,h)].variable for m in materias_ids for h in horarios_ids\n",
    "#             ) <= p.horas_max for d in dias_ids)"
   ]
  },
  {
   "cell_type": "markdown",
   "metadata": {},
   "source": [
    "#### (3.2.8) limitar dias con clase por docente (NO VA COMO RESTRICCION)\n",
    "\n",
    "\n",
    "$$ \\sum_{m,d} {w_{mp}·v_{md}} \\leq {Dmax}_p $$\n",
    "$$ \\sum_{d} {z_{pd}} \\leq {Dmax}_p $$\n",
    "\n",
    "    para todo p\n"
   ]
  },
  {
   "cell_type": "code",
   "execution_count": 395,
   "metadata": {},
   "outputs": [],
   "source": [
    "# MAL IMPLEMENTADA\n",
    "\n",
    "# for p in profesores:\n",
    "#     if not p.cantidad_dias is None:\n",
    "#         # mats = [search_materias_by_nombre(materias, m).id for m in p.materias()]\n",
    "#         model.addConstr(gp.quicksum(\n",
    "#             w_dict[m, p.id].variable * v_dict[m,d].variable for m in materias_ids for d in dias_ids\n",
    "#             ) <= p.cantidad_dias)\n",
    "        "
   ]
  },
  {
   "cell_type": "code",
   "execution_count": 396,
   "metadata": {},
   "outputs": [],
   "source": [
    "# p = search_profesor_by_nombre(profesores, \"jf\")\n",
    "# print(gp.quicksum(\n",
    "#             w_dict[m, p.id].variable * v_dict[m,d].variable for m in materias_ids for d in dias_ids\n",
    "#             ).getValue())"
   ]
  },
  {
   "cell_type": "markdown",
   "metadata": {},
   "source": [
    "### (3.3) Restricciones externas"
   ]
  },
  {
   "cell_type": "markdown",
   "metadata": {},
   "source": [
    "#### (3.3.1) cantidad de salones\n",
    "\n",
    "$$ \\sum_{m} {u_{mb}} \\leq K $$\n",
    "\n",
    "    para todo b"
   ]
  },
  {
   "cell_type": "code",
   "execution_count": 397,
   "metadata": {},
   "outputs": [],
   "source": [
    "K = 13      # 13 salones en este caso\n",
    "\n",
    "def constr_cantidad_salones(model, u_dict):\n",
    "    model.addConstrs(gp.quicksum(u_dict[m, b].variable for m in materias_ids) <= K for b in bloques_horario_ids)"
   ]
  },
  {
   "cell_type": "markdown",
   "metadata": {},
   "source": [
    "#### (3.3.2) restricciones ad hoc"
   ]
  },
  {
   "cell_type": "code",
   "execution_count": 398,
   "metadata": {},
   "outputs": [],
   "source": [
    "def constr_ad_hoc(model, u_dict, v_dict, w_dict, x_dict, y_dict, z_dict):\n",
    "\n",
    "    # MATERIAS\n",
    "\n",
    "    ## no dias consecutivos y no coincidir dia para ADA\n",
    "    # ada = [m.id for m in search_materias_by_nombre(materias, \"ADA\")]\n",
    "    # if len(ada) == 2:\n",
    "    #     model.addConstr(gp.quicksum(v_dict[ada[0],d].variable * v_dict[ada[1],d+1].variable for d in dias_ids[0:-1]) == 0)\n",
    "    #     model.addConstr(gp.quicksum(v_dict[ada[1],d].variable * v_dict[ada[0],d+1].variable for d in dias_ids[0:-1]) == 0)\n",
    "    #     model.addConstr(gp.quicksum(v_dict[ada[0],d].variable * v_dict[ada[1],d].variable for d in dias_ids) == 0)\n",
    "\n",
    "    ## fijar MDp al ultimo bloque (se adiciona horario excepcional)\n",
    "    # for mdp in search_materias_by_nombre(materias, \"MDp\"):\n",
    "    #     if mdp.carga_horaria == 1:\n",
    "    #         model.addConstr(gp.quicksum(u_dict[mdp.id, (d,h)].variable for d in dias_ids for h in horarios_ids_turno(horarios, \"m\")[0:-1]) == 0)\n",
    "\n",
    "    ## coincidir horarios para ambos grupos de SDig\n",
    "    # sdig = [m.id for m in search_materias_by_nombre(materias, \"SDig\")]\n",
    "    # if len(sdig) == 2:\n",
    "    #     model.addConstrs(u_dict[sdig[0], b].variable == u_dict[sdig[1], b].variable for b in bloques_horario_ids)\n",
    "\n",
    "    ## coincidir UIUX electiva para 5TEL/INF con obligatoria para 3LIC (se cubre hora excepcional, es decir menor carga horaria para 5to)\n",
    "    ## fijar a ultimo bloque UIUX electiva\n",
    "    # try:\n",
    "    #     uiux_elec = [m.id for m in search_materias_by_nombre(electivas(materias), \"UIUX\")][0]\n",
    "    #     model.addConstr(gp.quicksum(u_dict[uiux_elec, (d,h)].variable for d in dias_ids for h in horarios_ids_turno(horarios, \"t2\")[0:-1]) == 0)\n",
    "    #     try:\n",
    "    #         uiux_lic = [m.id for m in search_materias_by_nombre(materias, \"UIUX\") if \"3LIC\" in [str(g) for g in m.grupos]][0]\n",
    "    #         model.addConstrs(u_dict[uiux_lic, b].variable >= u_dict[uiux_elec, b].variable for b in bloques_horario_ids)\n",
    "    #     except:\n",
    "    #         pass\n",
    "    # except:\n",
    "    #     pass\n",
    "\n",
    "\n",
    "    # PROFESORES\n",
    "\n",
    "    ## 2 dias (minimo posible) para dj (coincidir mañana y tarde)\n",
    "    # dj = search_profesor_by_nombre(profesores, \"dj\")\n",
    "    # if dj is not None:\n",
    "    #     model.addConstr(gp.quicksum(z_dict[dj.id, d].variable for d in dias_ids) == 2)\n",
    "\n",
    "    \n",
    "    ## evitar 4 horas seguidas para mp\n",
    "    # mp = search_profesor_by_nombre(profesores, \"mp\")\n",
    "    # if mp is not None:\n",
    "    #     model.addConstrs(y_dict[mp.id, (d,h)].variable\n",
    "    #                     + y_dict[mp.id, (d,h+1)].variable\n",
    "    #                     + y_dict[mp.id, (d,h+2)].variable\n",
    "    #                     + y_dict[mp.id, (d,h+3)].variable\n",
    "    #                     <= 3\n",
    "    #                     for h in horarios_ids[0:-3]\n",
    "    #                     for d in dias_ids)\n",
    "    #     # alternativa no lineal:\n",
    "        # model.addConstr(gp.quicksum(\n",
    "        #                 y_dict[mp.id, (d,h)].variable\n",
    "        #                 * y_dict[mp.id, (d,h+1)].variable\n",
    "        #                 * y_dict[mp.id, (d,h+2)].variable\n",
    "        #                 * y_dict[mp.id, (d,h+3)].variable\n",
    "        #                 for h in horarios_ids[0:-3]\n",
    "        #                 for d in dias_ids)\n",
    "        #                 == 0)\n",
    "\n",
    "    ## alternar dias para gb (max 4 dias en total)\n",
    "    # gb = search_profesor_by_nombre(profesores, \"gb\")\n",
    "    # if gb is not None:\n",
    "    #     model.addConstr(\n",
    "    #         gp.quicksum(z_dict[gb.id, d].variable for d in dias_ids)\n",
    "    #         - gp.quicksum(z_dict[gb.id, d].variable * z_dict[gb.id, d+1].variable for d in dias_ids[0:-1])\n",
    "    #         >= 2)\n",
    "    \n",
    "    ## alternar dias para svv\n",
    "    # svv = search_profesor_by_nombre(profesores, \"svv\")\n",
    "    # if svv is not None:\n",
    "    #     model.addConstr(\n",
    "    #         gp.quicksum(z_dict[svv.id, d].variable for d in dias_ids)\n",
    "    #         - gp.quicksum(z_dict[svv.id, d].variable * z_dict[svv.id, d+1].variable for d in dias_ids[0:-1])\n",
    "    #         >= 2)\n",
    "\n",
    "    pass\n",
    "      \n"
   ]
  },
  {
   "cell_type": "markdown",
   "metadata": {},
   "source": [
    "#### (3.3.3) practico despues del teorico\n",
    "\n",
    "$$ \\max_b\\{(-b)*u_{mb}\\} > \\max_b\\{(-b)*u_{m'b}\\} $$\n",
    "\n",
    "    para todo par (teorico, practico) =  (m, m')\n"
   ]
  },
  {
   "cell_type": "code",
   "execution_count": 399,
   "metadata": {},
   "outputs": [],
   "source": [
    "def constr_teo_prac(model, u_dict):\n",
    "\n",
    "    \"\"\"\n",
    "    Variables:\n",
    "        teo (list): Array containing IDs of theoretical subjects.\n",
    "        prac (list): Array containing IDs of practical subjects.\n",
    "        vars1erHora (dict): Dictionary mapping subject IDs to Gurobi integer variables representing the first hour.\n",
    "        scaled_u_dict (dict): Dictionary mapping tuples of subject IDs and block IDs to scaled Gurobi integer variables.\n",
    "\n",
    "    Functions:\n",
    "        search_materias_by_nombre(materias, nombre): Searches for subjects by name in the given list of subjects.\n",
    "\n",
    "    Workflow:\n",
    "    1. Populate `teo` and `vars1erHora` with IDs and variables for theoretical subjects.\n",
    "    2. Populate `prac` and `vars1erHora` with IDs and variables for practical subjects.\n",
    "    3. Create scaled variables `scaled_u_dict` for each subject and block combination.\n",
    "    4. Add constraints to the model to ensure that `vars1erHora` variables are the maximum of the scaled variables.\n",
    "    5. Add constraints to ensure that the first hour of theoretical subjects is greater than or equal to the first hour of practical subjects if the lengths of `teo` and `prac` are equal.\n",
    "\n",
    "\n",
    "    \"\"\"\n",
    "    teo = []    # array con IDS de materias de teorico\n",
    "    prac = []    # array con IDS de materias de practico\n",
    "    vars1erHora = {}\n",
    "    scaled_u_dict = {}\n",
    "\n",
    "    for t in [m for m in materias if m.teo_prac == \"teo\"]:\n",
    "        teo.append(t.id)\n",
    "        vars1erHora[t.id] = model.addVar(vtype=GRB.INTEGER, name=str(t)+\"_1er_hora\")\n",
    "\n",
    "    for p in [m for m in materias if m.teo_prac == \"prac\"]:\n",
    "        prac.append(p.id)\n",
    "        vars1erHora[p.id] = model.addVar(vtype=GRB.INTEGER, name=str(p)+\"_1er_hora\")\n",
    "\n",
    "    L = len(bloques_horario_ids)\n",
    "\n",
    "    for m in teo + prac:\n",
    "        for b in range(0, L):\n",
    "            scaled_u_dict[m, bloques_horario_ids[b]] = model.addVar(vtype=GRB.INTEGER, name=str(m)+\"scaled_u\")\n",
    "            model.addConstr(scaled_u_dict[m, bloques_horario_ids[b]] == (L - b) * u_dict[m, bloques_horario_ids[b]].variable)\n",
    "\n",
    "    for m_id in vars1erHora:\n",
    "        print(m_id, vars1erHora[m_id])\n",
    "        model.addConstr(vars1erHora[m_id] ==\n",
    "                        # gp.max_( (L - b) * u_dict[m_id, bloques_horario_ids[b]].variable\n",
    "                        gp.max_( scaled_u_dict[m_id, bloques_horario_ids[b]]\n",
    "                                for b in range(0, L)) )\n",
    "\n",
    "    if len(teo) == len(prac):\n",
    "        model.addConstrs(vars1erHora[teo[m]] >= vars1erHora[prac[m]] for m in range(0, len(teo)))\n"
   ]
  },
  {
   "cell_type": "markdown",
   "metadata": {},
   "source": [
    "### (3.4) Grupos"
   ]
  },
  {
   "cell_type": "markdown",
   "metadata": {},
   "source": [
    "#### (3.4.1) definicion de variable \"x\"\n",
    "\n",
    "$$ x_{gb} = \\sum_{m \\in M_g} {u_{mb}} $$\n",
    "\n",
    "$$ x_{gb} = OR_{m \\in M_g} {u_{mb}} $$\n",
    "\n"
   ]
  },
  {
   "cell_type": "code",
   "execution_count": 400,
   "metadata": {},
   "outputs": [],
   "source": [
    "def constr_definir_x(model, x_dict, u_dict):\n",
    "\n",
    "    # SUMA\n",
    "    # for g in grupos:\n",
    "    #     gr_mats_ids = [m.id for m in materias_grupo(g, materias)]\n",
    "    #     model.addConstrs(x_dict[g.id, b].variable == gp.quicksum(u_dict[m, b].variable for m in gr_mats_ids) for b in bloques_horario_ids)\n",
    "\n",
    "    # OR\n",
    "    for g in grupos:\n",
    "        # gr_mats_ids = [m.id for m in materias_grupo(g, materias)]\n",
    "        gr_mats_ids = [m.id for m in materias_grupo(g, [m for m in materias if not m.electiva])] # solo materias obligatorias\n",
    "        model.addConstrs(x_dict[g.id, b].variable == gp.or_(u_dict[m, b].variable for m in gr_mats_ids) for b in bloques_horario_ids)\n",
    "\n"
   ]
  },
  {
   "cell_type": "markdown",
   "metadata": {},
   "source": [
    "#### (3.4.2) evitar horas puente por grupo\n",
    "\n",
    "$$ \\sum_h {x_{gdh}} - \\sum_h {x_{gd(h)} · x_{gd(h+1)}} \\leq 1 $$\n",
    "    para todo g, d"
   ]
  },
  {
   "cell_type": "code",
   "execution_count": 401,
   "metadata": {},
   "outputs": [],
   "source": [
    "def constr_horas_puente_grupos(model, x_dict):\n",
    "\n",
    "    for g in grupos:\n",
    "        model.addConstrs(gp.quicksum(x_dict[(g.id,(d,h))].variable for h in horarios_ids)\n",
    "                    - gp.quicksum(x_dict[(g.id,(d,h))].variable * x_dict[(g.id,(d,h+1))].variable for h in horarios_ids[0:-1])\n",
    "                    <= 1 for d in dias_ids)"
   ]
  },
  {
   "cell_type": "markdown",
   "metadata": {},
   "source": [
    "## (4) Funcion Objetivo"
   ]
  },
  {
   "cell_type": "markdown",
   "metadata": {},
   "source": [
    "### (4.1) Prioridad horaria de los docentes\n",
    "\n",
    "$$ \\min: \\sum_{m,b,p} {A_{pb}·w_{mp}·u_{mb}} $$\n"
   ]
  },
  {
   "cell_type": "code",
   "execution_count": 402,
   "metadata": {},
   "outputs": [],
   "source": [
    "def obj_prioridades(u_dict, w_dict):\n",
    "\n",
    "    OBJ1 = gp.QuadExpr()\n",
    "    \"\"\"\n",
    "    This script constructs a quadratic expression for an optimization problem using Gurobi's QuadExpr.\n",
    "    Variables:\n",
    "        OBJ1 (gp.QuadExpr): A quadratic expression object to accumulate the terms.\n",
    "        count (int): A counter to keep track of the number of terms added to the quadratic expression.\n",
    "    Loops:\n",
    "        The script iterates over all combinations of 'materias' and 'profesores'. For each professor, it further iterates over their 'prioridades'.\n",
    "    Inner Loop:\n",
    "        For each priority 'pr' of a professor:\n",
    "            - 'b' is assigned the 'bloque_horario' of the priority.\n",
    "            - 'A' is assigned the 'value' of the priority.\n",
    "            - The quadratic expression 'OBJ1' is updated by adding the product of 'A', the variable corresponding to the combination of 'materia' and 'profesor' from 'w_dict', and the variable corresponding to the combination of 'materia' and 'bloque_horario' from 'u_dict'.\n",
    "            - The counter 'count' is incremented.\n",
    "    Final Step:\n",
    "        The constructed quadratic expression 'OBJ1' is added to the main objective 'OBJ'.\n",
    "    Output:\n",
    "        The total count of terms added to the quadratic expression is printed.\n",
    "    \"\"\"\n",
    "\n",
    "    count = 0\n",
    "    for m in materias:\n",
    "        for p in profesores:\n",
    "            for pr in p.prioridades:\n",
    "                b = pr.bloque_horario\n",
    "                A = pr.value\n",
    "                OBJ1 += A * w_dict[m.id, p.id].variable * u_dict[m.id, b.id].variable\n",
    "                count += 1\n",
    "\n",
    "\n",
    "    print(\"obj_prioridades terms:\", count)\n",
    "\n",
    "    return OBJ1\n"
   ]
  },
  {
   "cell_type": "markdown",
   "metadata": {},
   "source": [
    "LINEALIZAR: SUSTITUIR CON VARIABLES y_pb\n",
    "\n",
    "$$ \\min: \\sum_{p,b} {A_{pb}·y_{pb}} $$"
   ]
  },
  {
   "cell_type": "code",
   "execution_count": 403,
   "metadata": {},
   "outputs": [],
   "source": [
    "def obj_prioridades_lineal(y_dict):\n",
    "\n",
    "    OBJ1 = gp.QuadExpr()\n",
    "\n",
    "    count = 0\n",
    "    for p in profesores:\n",
    "        for pr in p.prioridades:\n",
    "            b = pr.bloque_horario\n",
    "            A = pr.value\n",
    "            OBJ1 += A * y_dict[p.id, b.id].variable\n",
    "            count += 1\n",
    "\n",
    "    print(\"obj_prioridades_lineal terms:\", count)\n",
    "\n",
    "    return OBJ1"
   ]
  },
  {
   "cell_type": "markdown",
   "metadata": {},
   "source": [
    "### (4.2) Minimizar/Maximizar dias con clase por profesor\n",
    "$$ \\min: \\sum_{p,d} {\\alpha_p} {z_{pd}}$$\n",
    "donde $\\alpha_p = 1$ si se minimiza, $\\alpha_p = -1$ si se maximiza y $\\alpha_p = 0$ si es irrelevante"
   ]
  },
  {
   "cell_type": "code",
   "execution_count": 404,
   "metadata": {},
   "outputs": [],
   "source": [
    "def obj_min_max_dias(z_dict):\n",
    "\n",
    "    OBJ2 = gp.LinExpr()\n",
    "    DP = {}\n",
    "\n",
    "    count = 0\n",
    "    for p in profesores:\n",
    "        \n",
    "        D_p = gp.quicksum(z_dict[p.id,d].variable for d in dias_ids)\n",
    "        DP[p.id] = D_p\n",
    "\n",
    "        # filtrar si el profesor prefiere minimizar o maximizar o ninguno\n",
    "        match p.min_max_dias:\n",
    "            case \"min\":\n",
    "                OBJ2 += D_p\n",
    "                count += len(dias_ids)\n",
    "            case \"max\":\n",
    "                OBJ2 -= D_p\n",
    "                count += len(dias_ids)\n",
    "            case None:\n",
    "                pass\n",
    "\n",
    "    print(\"obj_min_max_dias terms:\", count)\n",
    "\n",
    "    return OBJ2, DP\n",
    "\n"
   ]
  },
  {
   "cell_type": "markdown",
   "metadata": {},
   "source": [
    "### (4.3) Minimizar horas puente por grupo (se incluye directamente como restriccion)\n",
    "\n",
    "$$ \\min: -\\sum_{g,d,h} {x_{gd(h)}·x_{gd(h+1)}} $$"
   ]
  },
  {
   "cell_type": "code",
   "execution_count": 405,
   "metadata": {},
   "outputs": [],
   "source": [
    "def obj_horas_puente_grupos(x_dict):\n",
    "    OBJ3 = gp.QuadExpr()\n",
    "\n",
    "    count = 0\n",
    "    for g in grupos:\n",
    "        for d in dias_ids:\n",
    "            OBJ3 += - gp.quicksum(x_dict[(g.id,(d,h))].variable * x_dict[(g.id,(d,h+1))].variable for h in horarios_ids[0:-1])\n",
    "            count += 1\n",
    "\n",
    "    print(\"obj_horas_puente_grupos terms:\", count)\n",
    "\n",
    "    return OBJ3\n"
   ]
  },
  {
   "cell_type": "markdown",
   "metadata": {},
   "source": [
    "### (4.4) Minimizar superposicion de electivas\n",
    "\n",
    "$$ \\min:  \\sum_{b} \\sum_{m, m'}{u_{mb} \\times SE_{m,m'} \\times u_{m'b}} = 0 $$\n",
    "\n",
    "para todo par (m, m') de electivas"
   ]
  },
  {
   "cell_type": "code",
   "execution_count": 406,
   "metadata": {},
   "outputs": [],
   "source": [
    "def obj_superposicion_electivas(u_dict):\n",
    "    OBJ4 = gp.QuadExpr()\n",
    "\n",
    "    count = 0\n",
    "    for m1 in electivas(materias):\n",
    "        for m2 in electivas(materias):\n",
    "            for b in bloques_horario_ids:\n",
    "                OBJ4 += u_dict[m1.id, b].variable * superposicion_electivas[m1.id, m2.id].value * u_dict[m2.id, b].variable\n",
    "                count += 1\n",
    "\n",
    "    print(\"obj_superposicion_electivas terms:\", count)\n",
    "\n",
    "    return OBJ4"
   ]
  },
  {
   "cell_type": "markdown",
   "metadata": {},
   "source": [
    "### (4.5) Evitar horas excepcionales\n",
    "\n",
    "$$ \\min: \\sum_{m} \\sum_{b \\in \\mathcal{E}_m} {u_{mb}} $$"
   ]
  },
  {
   "cell_type": "code",
   "execution_count": 407,
   "metadata": {},
   "outputs": [],
   "source": [
    "def obj_horarios_excepcionales(u_dict):\n",
    "\n",
    "    objetivo = gp.QuadExpr()\n",
    "\n",
    "    count = 0\n",
    "    for m in materias:\n",
    "        for b in bloques_horario.values():\n",
    "            excep = b.horario.turnos_excepcional\n",
    "            if len(intersection(excep, m.turnos()))>0:\n",
    "                objetivo += u_dict[m.id, b.id].variable\n",
    "                count += 1\n",
    "        \n",
    "    print(\"obj_horarios_excepcionales terms:\", count)\n",
    "\n",
    "    return objetivo"
   ]
  },
  {
   "cell_type": "markdown",
   "metadata": {},
   "source": [
    "# Resolver"
   ]
  },
  {
   "cell_type": "markdown",
   "metadata": {},
   "source": [
    "### Filtrar (ejecutar desde acá)"
   ]
  },
  {
   "cell_type": "code",
   "execution_count": 408,
   "metadata": {},
   "outputs": [],
   "source": [
    "# recargar input original\n",
    "\n",
    "import copy\n",
    "\n",
    "anios = copy.deepcopy(ANIOS)\n",
    "dias = copy.deepcopy(DIAS)\n",
    "horarios = copy.deepcopy(HORARIOS)\n",
    "bloques_horario = copy.deepcopy(BLOQUES_HORARIO)\n",
    "profesores = copy.deepcopy(PROFESORES)\n",
    "grupos = copy.deepcopy(GRUPOS)\n",
    "materias = copy.deepcopy(MATERIAS)\n",
    "superposicion = copy.deepcopy(SUPERPOSICION)\n",
    "superposicion_electivas = copy.deepcopy(SUPERPOSICION_ELECTIVAS)"
   ]
  },
  {
   "cell_type": "code",
   "execution_count": 409,
   "metadata": {},
   "outputs": [],
   "source": [
    "#filtrar por grupos\n",
    "\n",
    "grupos: list[Grupo] = [g for g in grupos if g.anio in [2] and g.carrera not in [\"IND\"]]\n",
    "\n",
    "# materias = [m for m in materias if str(m) not in [\"tAM1\"]]\n",
    "\n",
    "ms = []\n",
    "for m in materias:\n",
    "    gs_m = []\n",
    "    for g in grupos:\n",
    "        if g in m.grupos:\n",
    "            gs_m.append(g)\n",
    "\n",
    "    if len(gs_m) > 0:\n",
    "        m.grupos = gs_m\n",
    "        ms.append(m)\n",
    "\n",
    "materias: list[Materia] = ms\n",
    "\n",
    "\n",
    "# ajustar conjunto de profesores y grupos segun las materias filtradas\n",
    "\n",
    "ps = []\n",
    "gs = []\n",
    "\n",
    "for m in materias:\n",
    "    # print(str(m), \":\", [str(g) for g in m.grupos], [str(p) for p in m.profesores], m.carga_horaria, m.cantidad_dias)\n",
    "    for p in m.profesores:\n",
    "        if p not in ps:\n",
    "            ps.append(p)\n",
    "    for g in m.grupos:\n",
    "        if g not in gs:\n",
    "            gs.append(g)\n",
    "\n",
    "for p in ps: # ajustar materias que puede dictar un profesor\n",
    "    p.lista_materias = [m for m in p.lista_materias if m['nombre_materia'] in [str(m) for m in materias]]\n",
    "    # print(f\"{p}: {set([str(m) for m in materias if p in m.profesores])} =? {[f'{m['nombre_materia'], m['grupos_max']}' for m in p.lista_materias]}\")\n",
    "\n",
    "grupos: list[Grupo] = gs\n",
    "profesores: list[Profesor] = ps\n",
    "\n",
    "anios = [a for a in anios if a in [g.anio for g in grupos]]\n"
   ]
  },
  {
   "cell_type": "code",
   "execution_count": 410,
   "metadata": {},
   "outputs": [
    {
     "name": "stdout",
     "output_type": "stream",
     "text": [
      "['2CIV', '2TEL', '2DIA', '2INF', '2LINF']\n"
     ]
    }
   ],
   "source": [
    "print([str(g) for g in grupos])"
   ]
  },
  {
   "cell_type": "code",
   "execution_count": 411,
   "metadata": {},
   "outputs": [],
   "source": [
    "# chequeo de disponibilidad\n",
    "\n",
    "# for p in profesores:\n",
    "#     print(p, p.nombre_completo)\n",
    "#     for l in p.lista_materias:\n",
    "#         for mat in search_materias_by_nombre(materias, l[\"nombre_materia\"]):\n",
    "#             if p not in mat.profesores:\n",
    "#                 continue\n",
    "#             print('\\t', l[\"nombre_materia\"], l[\"grupos_max\"], mat.carga_horaria)\n",
    "#             print('\\t\\thoras:', mat.carga_horaria*l[\"grupos_max\"])\n",
    "            \n",
    "#             disp = bloques_horario.values()\n",
    "#             for t in mat.turnos():\n",
    "#                 disp = [d for d in disp if t in d.horario.turnos]\n",
    "            \n",
    "#             disp = [d for d in disp if d not in p.no_disponible]\n",
    "#             print('\\t\\thoras disponibles:', len(disp))\n",
    "        \n"
   ]
  },
  {
   "cell_type": "markdown",
   "metadata": {},
   "source": [
    "#### Superposicion de electivas"
   ]
  },
  {
   "cell_type": "code",
   "execution_count": 412,
   "metadata": {},
   "outputs": [],
   "source": [
    "\n",
    "# # BPMN y dbdIII coincidan horarios\n",
    "# fix_super(0, superposicion_electivas, search_materias_by_nombre(electivas(materias), \"BPMN\"), search_materias_by_nombre(electivas(materias), \"DBD3\"))\n",
    "\n",
    "# # RPA y aplicaciones móviles coincidan horarios\n",
    "# fix_super(0, superposicion_electivas, search_materias_by_nombre(electivas(materias), \"RPA\"), search_materias_by_nombre(electivas(materias), \"ApMov\"))\n",
    "\n",
    "# # Diseño estructural y Pavimentos coincidan horarios\n",
    "# fix_super(0, superposicion_electivas, search_materias_by_nombre(electivas(materias), \"DisEst\"), search_materias_by_nombre(electivas(materias), \"DPav\"))\n",
    "\n",
    "# # Diseño estructural + Puentes pueden coincidir con Diseño de Pavimentos + Diseño de infraestructura pluvial y urbana\n",
    "# fix_super(0, superposicion_electivas,\n",
    "#             [m for m in electivas(materias) if m.nombre in [\"DisEst\", \"Puentes\"]],\n",
    "#             [m for m in electivas(materias) if m.nombre in [\"DPav\", \"DIPyU\"]]\n",
    "#             )\n",
    "\n"
   ]
  },
  {
   "cell_type": "code",
   "execution_count": 413,
   "metadata": {},
   "outputs": [],
   "source": [
    "# fix_super(1, superposicion,\n",
    "#             search_materias_by_nombre(electivas(materias), \"DBD3\"),\n",
    "#             search_materias_by_nombre(electivas(materias), \"ApMov\"))\n",
    "\n",
    "\n",
    "# # ---------------- 5TEL / 5INF / 4LIC ----------------\n",
    "\n",
    "# bloque1 = [m for m in electivas(materias) if m.nombre in [\"RPA\", \"BPMN\", \"GSInf\"]]\n",
    "# bloque2 = [m for m in electivas(materias) if m.nombre in [\"ApMov\", \"DBD3\", \"TestQA\"]]\n",
    "# bloque3 = [m for m in electivas(materias) if m.nombre in [\"QC\", \"EthHck\", \"UIUX\"]]\n",
    "\n",
    "# fix_super(0, superposicion, bloque1, bloque2)\n",
    "# fix_super(0, superposicion, bloque2, bloque3)\n",
    "# fix_super(0, superposicion, bloque3, bloque1)\n",
    "\n",
    "# # ---------------------- 5CIV ------------------------\n",
    "\n",
    "# fix_super(0, superposicion,\n",
    "#             search_materias_by_nombre(electivas(materias), \"DPav\"),\n",
    "#             search_materias_by_nombre(electivas(materias), \"DIPyU\"))\n",
    "            \n",
    "# fix_super(0, superposicion, search_materias_by_nombre(electivas(materias), \"Puentes\")\n",
    "#             # ,electivas([m for m in materias if m.nombre != \"DPav\"])\n",
    "#             ,electivas(materias)\n",
    "#             )\n"
   ]
  },
  {
   "cell_type": "code",
   "execution_count": 414,
   "metadata": {},
   "outputs": [],
   "source": [
    "# for g in grupos:\n",
    "#     ms = [e for e in electivas(materias) if g in [g for g in e.grupos]]\n",
    "#     if len(ms) > 0:\n",
    "#         print(g)\n",
    "#     for m1 in ms:\n",
    "#         print('\\t', m1)\n",
    "#         for m2 in [m for m in ms if m1 != m]:\n",
    "#             print('\\t\\t', m2, superposicion[(m1.id, m2.id)].value)"
   ]
  },
  {
   "cell_type": "code",
   "execution_count": 415,
   "metadata": {},
   "outputs": [],
   "source": [
    "# actualizar id arrays\n",
    "\n",
    "dias_ids = [d.id for d in dias]\n",
    "\n",
    "horarios_ids = [h.id for h in horarios]\n",
    "\n",
    "bloques_horario_ids = [b for b in bloques_horario]\n",
    "\n",
    "profesores_ids = [p.id for p in profesores]\n",
    "\n",
    "grupos_ids = [g.id for g in grupos]\n",
    "\n",
    "materias_ids = [m.id for m in materias]\n"
   ]
  },
  {
   "cell_type": "markdown",
   "metadata": {},
   "source": [
    "## Chequeos previos"
   ]
  },
  {
   "cell_type": "code",
   "execution_count": 416,
   "metadata": {},
   "outputs": [
    {
     "name": "stdout",
     "output_type": "stream",
     "text": [
      "30\n",
      "30\n",
      "Prob: 0\n",
      "ProbP: 0\n",
      "ADA: 0\n",
      "ADAp: 0\n",
      "TIC1: 0\n",
      "RD1: 0\n",
      "TCirc: 0\n",
      "TComp: 0\n",
      "Mec2: 0\n",
      "RM1: 0\n",
      "PC1: 0\n",
      "PC/O1: 0\n",
      "HC: 0\n",
      "SO: 0\n",
      "IO: 0\n",
      "ISW1: 0\n",
      "DBD2: 0\n",
      "InProb: 0\n"
     ]
    }
   ],
   "source": [
    "# # chequeos de consistencia para asignacion de profesores y materias\n",
    "\n",
    "nombres_materias = []\n",
    "for m in materias:\n",
    "    if str(m) not in nombres_materias:\n",
    "        nombres_materias.append(str(m))\n",
    "\n",
    "count_asignaciones = {}\n",
    "for m in nombres_materias:\n",
    "    count_asignaciones[m] = 0\n",
    "\n",
    "count = 0\n",
    "for m in nombres_materias:\n",
    "    length = len(search_materias_by_nombre(materias, m))\n",
    "    # print(m, length)\n",
    "    count_profs = 0\n",
    "    for mi in search_materias_by_nombre(materias, m):\n",
    "        count_profs += mi.cantidad_profesores\n",
    "    count_asignaciones[m] += count_profs\n",
    "    count += count_profs\n",
    "\n",
    "print(count)\n",
    "\n",
    "count2 = 0\n",
    "for p in profesores:\n",
    "    # print(p, p.nombre_completo)\n",
    "    for l in p.lista_materias:\n",
    "        # print('\\t', l[\"nombre_materia\"], l[\"grupos_max\"], len([m for m in search_materias_by_nombre(materias, l[\"nombre_materia\"]) if p in m.profesores]))\n",
    "        count2 += l[\"grupos_max\"]\n",
    "        count_asignaciones[l[\"nombre_materia\"]] -= l[\"grupos_max\"]\n",
    "        # for m in search_materias_by_nombre(materias, l[\"nombre_materia\"]):\n",
    "            # print(len(mi for mi in))\n",
    "            # print('\\t\\t', m, *m.profesores)\n",
    "    # print(p, *[str(l[\"nombre_materia\"]) + \": \" + str(l[\"grupos_max\"]) for l in p.lista_materias])\n",
    "\n",
    "print(count2)\n",
    "\n",
    "print(*[c + \": \" + str(count_asignaciones[c]) for c in count_asignaciones], sep=\"\\n\")\n"
   ]
  },
  {
   "cell_type": "code",
   "execution_count": 417,
   "metadata": {},
   "outputs": [
    {
     "name": "stdout",
     "output_type": "stream",
     "text": [
      "Grupo: \t\thoras <= bloques \telectivas\n",
      "--------------------------------------------------\n",
      "2CIV: \t\t32 <= 35 \t\t0.0\n",
      "2TEL: \t\t29 <= 35 \t\t0.0\n",
      "2DIA: \t\t27 <= 35 \t\t0.0\n",
      "2INF: \t\t27 <= 35 \t\t0.0\n",
      "2LINF: \t\t23 <= 30 \t\t0.0\n"
     ]
    }
   ],
   "source": [
    "# chequeo de carga horaria por grupo\n",
    "\n",
    "print(f\"Grupo: \\t\\thoras <= bloques \\telectivas\")\n",
    "print(\"--------------------------------------------------\")\n",
    "for g in grupos:\n",
    "    print(f\"{g}: \\t\\t{np.sum([m.carga_horaria for m in materias_grupo(g, materias)])} <= {len([b for b in bloques_horario.values() if g.turno in b.horario.turnos])} \\t\\t{np.sum([m.carga_horaria for m in materias_grupo(g, materias) if m.electiva])}\")\n",
    "    "
   ]
  },
  {
   "cell_type": "markdown",
   "metadata": {},
   "source": [
    "## Compilar modelo"
   ]
  },
  {
   "cell_type": "code",
   "execution_count": 418,
   "metadata": {},
   "outputs": [],
   "source": [
    "# Create a new model\n",
    "model: gp.Model = gp.Model(\"timetable\")"
   ]
  },
  {
   "cell_type": "code",
   "execution_count": 419,
   "metadata": {},
   "outputs": [
    {
     "name": "stdout",
     "output_type": "stream",
     "text": [
      "u:  2320\n",
      "v:  145\n",
      "w:  638\n",
      "x:  400\n",
      "y:  1760\n",
      "z:  110\n"
     ]
    }
   ],
   "source": [
    "# variables\n",
    "u_dict, v_dict, w_dict, x_dict, y_dict, z_dict = initialize_variables(materias, bloques_horario, dias, profesores, grupos)\n",
    "create_variables(model, u_dict, v_dict, w_dict, x_dict, y_dict, z_dict)"
   ]
  },
  {
   "cell_type": "markdown",
   "metadata": {},
   "source": [
    "### Seleccionar restricciones"
   ]
  },
  {
   "cell_type": "code",
   "execution_count": 420,
   "metadata": {},
   "outputs": [],
   "source": [
    "constr_superposicion(model, u_dict)\n",
    "constr_carga_horaria(model, u_dict)\n",
    "constr_dias_materia(model, v_dict)\n",
    "constr_max_min_horas(model, u_dict, v_dict)"
   ]
  },
  {
   "cell_type": "code",
   "execution_count": 421,
   "metadata": {},
   "outputs": [],
   "source": [
    "constr_turnos_materia(model, u_dict)\n",
    "constr_horas_consecutivas(model, u_dict, v_dict)\n",
    "constr_dias_consecutivos(model, v_dict)\n",
    "# constr_no_disponible_materia(model, u_dict)"
   ]
  },
  {
   "cell_type": "code",
   "execution_count": 422,
   "metadata": {},
   "outputs": [],
   "source": [
    "constr_no_disponible_profesor(model, u_dict, w_dict)\n",
    "# constr_no_disponible_profesor_lineal(model, y_dict)\n",
    "constr_unica_materia_profesor(model, u_dict, w_dict)\n",
    "constr_limitar_profesores_materia(model, w_dict)\n",
    "constr_cantidad_profesores(model, w_dict)\n",
    "constr_grupos_max_profesor(model, w_dict)"
   ]
  },
  {
   "cell_type": "code",
   "execution_count": 423,
   "metadata": {},
   "outputs": [],
   "source": [
    "constr_definir_y(model, y_dict, u_dict, w_dict)\n",
    "constr_definir_z(model, z_dict, y_dict)"
   ]
  },
  {
   "cell_type": "code",
   "execution_count": 424,
   "metadata": {},
   "outputs": [
    {
     "name": "stdout",
     "output_type": "stream",
     "text": [
      "36 <gurobi.Var *Awaiting Model Update*>\n",
      "37 <gurobi.Var *Awaiting Model Update*>\n",
      "38 <gurobi.Var *Awaiting Model Update*>\n",
      "42 <gurobi.Var *Awaiting Model Update*>\n",
      "43 <gurobi.Var *Awaiting Model Update*>\n",
      "39 <gurobi.Var *Awaiting Model Update*>\n",
      "40 <gurobi.Var *Awaiting Model Update*>\n",
      "41 <gurobi.Var *Awaiting Model Update*>\n",
      "44 <gurobi.Var *Awaiting Model Update*>\n",
      "45 <gurobi.Var *Awaiting Model Update*>\n"
     ]
    }
   ],
   "source": [
    "constr_cantidad_salones(model, u_dict)\n",
    "constr_ad_hoc(model, u_dict, v_dict, w_dict, x_dict, y_dict, z_dict)\n",
    "constr_teo_prac(model, u_dict)"
   ]
  },
  {
   "cell_type": "code",
   "execution_count": 425,
   "metadata": {},
   "outputs": [],
   "source": [
    "constr_definir_x(model, x_dict, u_dict)\n",
    "constr_horas_puente_grupos(model, x_dict)"
   ]
  },
  {
   "cell_type": "markdown",
   "metadata": {},
   "source": [
    "### Funcion objetivo "
   ]
  },
  {
   "cell_type": "code",
   "execution_count": 426,
   "metadata": {},
   "outputs": [
    {
     "name": "stdout",
     "output_type": "stream",
     "text": [
      "obj_prioridades terms: 51040\n",
      "obj_min_max_dias terms: 0\n",
      "obj_superposicion_electivas terms: 0\n",
      "obj_horarios_excepcionales terms: 145\n"
     ]
    }
   ],
   "source": [
    "# funcion objetivo\n",
    "\n",
    "objectives = { # name : (expr, weight)\n",
    "    \n",
    "    \"prioridades\" : (obj_prioridades(u_dict, w_dict), 1),\n",
    "    # \"prioridades_lineal\" : (obj_prioridades_lineal(y_dict), 1),\n",
    "    \"min_max_dias\" : (obj_min_max_dias(z_dict)[0], 5),\n",
    "    # (\"horas_puente_grupos\", obj_horas_puente_grupos(x_dict), 1),\n",
    "    \"superposicion_electivas\" : (obj_superposicion_electivas(u_dict), 5),\n",
    "    \"horarios_excepcionales\" : (obj_horarios_excepcionales(u_dict), 100),\n",
    "\n",
    "}\n",
    "\n",
    "OBJ = gp.QuadExpr()\n",
    "for name in objectives:\n",
    "    expr, weight = objectives[name]\n",
    "    OBJ += weight * expr\n",
    "\n",
    "model.setObjective(OBJ, GRB.MINIMIZE)"
   ]
  },
  {
   "cell_type": "markdown",
   "metadata": {},
   "source": [
    "## Optimizar"
   ]
  },
  {
   "cell_type": "code",
   "execution_count": 427,
   "metadata": {},
   "outputs": [
    {
     "name": "stdout",
     "output_type": "stream",
     "text": [
      "Set parameter TimeLimit to value 7200\n",
      "Gurobi Optimizer version 11.0.3 build v11.0.3rc0 (win64 - Windows 11.0 (22631.2))\n",
      "\n",
      "CPU model: Intel(R) Core(TM) i7-9750H CPU @ 2.60GHz, instruction set [SSE2|AVX|AVX2]\n",
      "Thread count: 6 physical cores, 12 logical processors, using up to 12 threads\n",
      "\n",
      "Optimize a model with 3212 rows, 9543 columns and 13931 nonzeros\n",
      "Model fingerprint: 0x2915da3f\n",
      "Model has 51040 quadratic objective terms\n",
      "Model has 5399 quadratic constraints\n",
      "Model has 2280 general constraints\n",
      "Variable types: 0 continuous, 9543 integer (5373 binary)\n",
      "Coefficient statistics:\n",
      "  Matrix range     [1e+00, 8e+01]\n",
      "  QMatrix range    [1e+00, 2e+00]\n",
      "  QLMatrix range   [1e+00, 1e+00]\n",
      "  Objective range  [1e+02, 1e+02]\n",
      "  QObjective range [2e+00, 2e+00]\n",
      "  Bounds range     [1e+00, 1e+00]\n",
      "  RHS range        [1e+00, 1e+01]\n",
      "  QRHS range       [1e+00, 1e+00]\n",
      "Presolve removed 1495 rows and 7412 columns\n",
      "Presolve time: 0.14s\n",
      "Presolved: 6507 rows, 3489 columns, 19638 nonzeros\n",
      "Variable types: 0 continuous, 3489 integer (3374 binary)\n",
      "\n",
      "Root relaxation: objective 2.950000e+02, 2937 iterations, 0.19 seconds (0.13 work units)\n",
      "\n",
      "    Nodes    |    Current Node    |     Objective Bounds      |     Work\n",
      " Expl Unexpl |  Obj  Depth IntInf | Incumbent    BestBd   Gap | It/Node Time\n",
      "\n",
      "     0     0  295.00000    0  402          -  295.00000      -     -    0s\n",
      "     0     0  295.00000    0  397          -  295.00000      -     -    0s\n",
      "     0     0  315.86538    0  853          -  315.86538      -     -    1s\n",
      "     0     0  315.86538    0  746          -  315.86538      -     -    1s\n",
      "     0     0  320.90000    0  743          -  320.90000      -     -    1s\n",
      "H    0     0                     423.0000000  320.90000  24.1%     -    1s\n",
      "     0     0  320.90000    0  725  423.00000  320.90000  24.1%     -    1s\n",
      "     0     0  323.00000    0  729  423.00000  323.00000  23.6%     -    2s\n",
      "     0     0  323.00000    0  712  423.00000  323.00000  23.6%     -    2s\n",
      "     0     0  323.00000    0  661  423.00000  323.00000  23.6%     -    2s\n",
      "     0     0  323.00000    0  675  423.00000  323.00000  23.6%     -    2s\n",
      "     0     0  323.00000    0  626  423.00000  323.00000  23.6%     -    2s\n",
      "     0     0  323.00000    0  337  423.00000  323.00000  23.6%     -    2s\n",
      "     0     0  323.00000    0  128  423.00000  323.00000  23.6%     -    2s\n",
      "     0     0  323.00000    0  130  423.00000  323.00000  23.6%     -    2s\n",
      "     0     0  323.00000    0  137  423.00000  323.00000  23.6%     -    2s\n",
      "     0     0  323.00000    0  143  423.00000  323.00000  23.6%     -    3s\n",
      "     0     0  323.00000    0  256  423.00000  323.00000  23.6%     -    3s\n",
      "     0     0  323.00000    0  282  423.00000  323.00000  23.6%     -    3s\n",
      "     0     0  323.00000    0  654  423.00000  323.00000  23.6%     -    3s\n",
      "     0     0  323.00000    0  579  423.00000  323.00000  23.6%     -    3s\n",
      "     0     0  323.00000    0  600  423.00000  323.00000  23.6%     -    3s\n",
      "     0     0  323.00000    0  587  423.00000  323.00000  23.6%     -    4s\n",
      "     0     0  323.00000    0  504  423.00000  323.00000  23.6%     -    4s\n",
      "H    0     0                     323.0000000  323.00000  0.00%     -    4s\n",
      "\n",
      "Cutting planes:\n",
      "  Learned: 1\n",
      "  Gomory: 7\n",
      "  Cover: 13\n",
      "  Implied bound: 107\n",
      "  Clique: 60\n",
      "  MIR: 59\n",
      "  StrongCG: 6\n",
      "  Flow cover: 6\n",
      "  Zero half: 68\n",
      "  RLT: 222\n",
      "  Relax-and-lift: 17\n",
      "  BQP: 7\n",
      "\n",
      "Explored 1 nodes (34227 simplex iterations) in 4.28 seconds (2.99 work units)\n",
      "Thread count was 12 (of 12 available processors)\n",
      "\n",
      "Solution count 2: 323 423 \n",
      "\n",
      "Optimal solution found (tolerance 1.00e-04)\n",
      "Best objective 3.230000000000e+02, best bound 3.230000000000e+02, gap 0.0000%\n"
     ]
    }
   ],
   "source": [
    "model.setParam(\"TimeLimit\", 60*60*2)\n",
    "# model.Params.MIPGap = 1/100\n",
    "# model.Params.PoolSolutions = 10 # Number of solutions to find\n",
    "# model.Params.PoolSearchMode = 0 # 0, 1, 2\n",
    "\n",
    "model.optimize()\n",
    "\n",
    "# nSolutions = model.SolCount\n",
    "# print(f\"Number of solutions found: {nSolutions}\")"
   ]
  },
  {
   "cell_type": "code",
   "execution_count": 428,
   "metadata": {},
   "outputs": [],
   "source": [
    "# # Function to get variable values for a specific solution\n",
    "# def get_solution_values(model, solution_number):\n",
    "#     model.setParam(\"SolutionNumber\", solution_number)\n",
    "#     return {var.varName: round(var.x) for var in model.getVars()}\n",
    "\n",
    "# # Get the number of solutions\n",
    "# num_solutions = model.SolCount\n",
    "\n",
    "# # Store variable values for each solution\n",
    "# solutions = []\n",
    "# for i in range(num_solutions):\n",
    "#     solutions.append(get_solution_values(model, i))\n",
    "\n",
    "# # Compare solutions to find differences\n",
    "# differences = {}\n",
    "# for var_name in solutions[0].keys():\n",
    "#     values = [solution[var_name] for solution in solutions]\n",
    "#     if len(set(values)) > 1:  # If there are different values for this variable\n",
    "#         differences[var_name] = values\n",
    "\n",
    "# # Print differences\n",
    "# for var_name, values in differences.items():\n",
    "#     print(f\"Variable {var_name} has different values: {values}\")"
   ]
  },
  {
   "cell_type": "markdown",
   "metadata": {},
   "source": [
    "### Analizar no-factibilidad "
   ]
  },
  {
   "cell_type": "code",
   "execution_count": 429,
   "metadata": {},
   "outputs": [],
   "source": [
    "if model.Status == GRB.INFEASIBLE:\n",
    "    model.computeIIS()\n",
    "    model.write('iismodel.ilp')\n",
    "\n",
    "    # Print out the IIS constraints and variables\n",
    "    print('\\nThe following constraints and variables are in the IIS:')\n",
    "    for c in model.getConstrs():\n",
    "        if c.IISConstr: print(f'\\t{c.constrname}: {model.getRow(c)} {c.Sense} {c.RHS}')\n",
    "\n",
    "    for v in model.getVars():\n",
    "        if v.IISLB: print(f'\\t{v.varname} ≥ {v.LB}')\n",
    "        if v.IISUB: print(f'\\t{v.varname} ≤ {v.UB}')"
   ]
  },
  {
   "cell_type": "markdown",
   "metadata": {},
   "source": [
    "## Imprimir horarios"
   ]
  },
  {
   "cell_type": "code",
   "execution_count": 457,
   "metadata": {},
   "outputs": [
    {
     "name": "stdout",
     "output_type": "stream",
     "text": [
      "Obj: 323\n",
      "\tprioridades:                  123 \t(peso=1)\n",
      "\tmin_max_dias:                 0 \t(peso=5)\n",
      "\tsuperposicion_electivas:      0 \t(peso=5)\n",
      "\thorarios_excepcionales:       2 \t(peso=100)\n",
      "=============================================================\n",
      "\n",
      " -  -  -  -  -  -  -  -  -  -  -  -  -  -  -  -  -  -  -  -  -  -  -  -  -  -  -  -  -  -  -  -  -  -\n",
      "Año:  2\n",
      "\n",
      " Grupo:  2CIV\n",
      "\t\t\tlun\t\tmar\t\tmie\t\tjue\t\tvie\n",
      "··········································································································\n",
      "08:00-08:50\t\tMec2\t\tPC/O1\t\tProb\t\tRM1\t\tPC1\n",
      "08:50-09:40\t\tMec2\t\tPC/O1\t\tProb\t\tRM1\t\tPC1\n",
      "09:50-10:40\t\tProb\t\tPC/O1\t\tPC1\t\tRM1\t\tPC1\n",
      "10:40-11:30\t\tProb\t\tPC/O1\t\tPC1\t\tMec2\t\tHC\n",
      "11:40-12:30\t\tRM1\t\tPC/O1\t\tHC\t\tMec2\t\tHC\n",
      "12:30-13:20\t\tRM1\t\tPC/O1\t\tHC\t\tMec2\t\tProbP\n",
      "13:20-14:10\t\tRM1\t\t---\t\t---\t\t---\t\tProbP\n",
      "\n",
      " Grupo:  2TEL\n",
      "\t\t\tlun\t\tmar\t\tmie\t\tjue\t\tvie\n",
      "··········································································································\n",
      "08:00-08:50\t\tRD1\t\tHC\t\t---\t\tRD1\t\tADAp\n",
      "08:50-09:40\t\tRD1\t\tHC\t\tProb\t\tRD1\t\tADAp\n",
      "09:50-10:40\t\tRD1\t\tTIC1\t\tProb\t\tProbP\t\tTIC1\n",
      "10:40-11:30\t\tTCirc\t\tTIC1\t\tTCirc\t\tProbP\t\tTIC1\n",
      "11:40-12:30\t\tTCirc\t\tADA\t\tTCirc\t\tHC\t\tProb\n",
      "12:30-13:20\t\tTCirc\t\tADA\t\tTCirc\t\tHC\t\tProb\n",
      "13:20-14:10\t\t---\t\t---\t\t---\t\t---\t\t---\n",
      "\n",
      " Grupo:  2DIA\n",
      "\t\t\tlun\t\tmar\t\tmie\t\tjue\t\tvie\n",
      "··········································································································\n",
      "08:00-08:50\t\tRD1\t\tHC\t\t---\t\tRD1\t\tADAp\n",
      "08:50-09:40\t\tRD1\t\tHC\t\tProb\t\tRD1\t\tADAp\n",
      "09:50-10:40\t\tRD1\t\tTIC1\t\tProb\t\tProbP\t\tTIC1\n",
      "10:40-11:30\t\tTComp\t\tTIC1\t\tTComp\t\tProbP\t\tTIC1\n",
      "11:40-12:30\t\tTComp\t\tADA\t\tTComp\t\tHC\t\tProb\n",
      "12:30-13:20\t\t---\t\tADA\t\t---\t\tHC\t\tProb\n",
      "13:20-14:10\t\t---\t\t---\t\t---\t\t---\t\t---\n",
      "\n",
      " Grupo:  2INF\n",
      "\t\t\tlun\t\tmar\t\tmie\t\tjue\t\tvie\n",
      "··········································································································\n",
      "08:00-08:50\t\t---\t\t---\t\tProb\t\tProbP\t\tHC\n",
      "08:50-09:40\t\tADA\t\tTComp\t\tProb\t\tProbP\t\tHC\n",
      "09:50-10:40\t\tADA\t\tTComp\t\tTIC1\t\tRD1\t\tProb\n",
      "10:40-11:30\t\tRD1\t\tADAp\t\tTIC1\t\tRD1\t\tProb\n",
      "11:40-12:30\t\tRD1\t\tADAp\t\tHC\t\tTComp\t\tTIC1\n",
      "12:30-13:20\t\tRD1\t\t---\t\tHC\t\tTComp\t\tTIC1\n",
      "13:20-14:10\t\t---\t\t---\t\t---\t\t---\t\t---\n",
      "\n",
      " Grupo:  2LINF\n",
      "\t\t\tlun\t\tmar\t\tmie\t\tjue\t\tvie\n",
      "··········································································································\n",
      "17:00-17:50\t\t---\t\t---\t\t---\t\t---\t\t---\n",
      "18:00-18:50\t\tDBD2\t\tInProb\t\tISW1\t\tSO\t\t---\n",
      "18:50-19:40\t\tDBD2\t\tInProb\t\tISW1\t\tSO\t\tISW1\n",
      "19:50-20:40\t\tDBD2\t\tSO\t\tIO\t\tInProb\t\tISW1\n",
      "20:40-21:30\t\tIO\t\tSO\t\tIO\t\tInProb\t\tDBD2\n",
      "21:40-22:30\t\tIO\t\tSO\t\t---\t\tInProb\t\tDBD2\n"
     ]
    }
   ],
   "source": [
    "model.setParam(\"SolutionNumber\", 0)\n",
    "model.update()\n",
    "\n",
    "\n",
    "if not model.Status == GRB.INFEASIBLE:\n",
    "    print('Obj: %g' % model.ObjVal)\n",
    "    for name in objectives:\n",
    "        expr, weight = objectives[name]\n",
    "        print(f\"\\t{name}: {\" \"*(28-len(name))}{round(expr.getValue())} \\t(peso={weight})\")\n",
    "    print('=============================================================')\n",
    "    \n",
    "    print_timetable(dias, horarios, u_dict, w_dict, grupos, anios)\n",
    "\n",
    "    copy_variables_excel(u_dict, w_dict, output)"
   ]
  },
  {
   "cell_type": "code",
   "execution_count": 431,
   "metadata": {},
   "outputs": [],
   "source": [
    "# if not model.Status == GRB.INFEASIBLE:\n",
    "#     # print_prof_timetable(dias, horarios, u_dict, w_dict, profesores, materias)\n",
    "#     # print_prof_timetable(dias, horarios, u_dict, w_dict, profesores, search_materias_by_nombre(materias, \"ADA\"))\n",
    "\n",
    "#     # print_prof_timetable_excel(dias, horarios, u_dict, w_dict, profesores, materias)"
   ]
  },
  {
   "cell_type": "code",
   "execution_count": 432,
   "metadata": {},
   "outputs": [],
   "source": [
    "# imprimir calendario para profesores\n",
    "# if not model.Status == GRB.INFEASIBLE:\n",
    "    # print_prof_timetable(dias, horarios, u_dict, w_dict, [search_profesor_by_nombre(profesores, \"gc\")], materias)\n",
    "    # print_prof_timetable(dias, horarios, u_dict, w_dict, profesores, search_materias_by_nombre(materias,\"Prob\"))\n",
    "    # print_prof_timetable(dias, horarios, u_dict, w_dict, profesores, materias)"
   ]
  },
  {
   "cell_type": "markdown",
   "metadata": {},
   "source": [
    "#### Imprimir para Excel"
   ]
  },
  {
   "cell_type": "code",
   "execution_count": 433,
   "metadata": {},
   "outputs": [
    {
     "name": "stdout",
     "output_type": "stream",
     "text": [
      "\n",
      " -  -  -  -  -  -  -  -  -  -  -  -  -  -  -  -  -  -  -  -  -  -  -  -  -  -  -  -  -  -  -  -  -  -\n",
      "Año:  2\n",
      "\n",
      " Grupo:  2CIV\n",
      "\tlun\tmar\tmie\tjue\tvie\n",
      "08:00-08:50\tMec2[cb]\tPC/O1[nd]\tProb[jd]\tRM1[as]\tPC1[bt]\n",
      "08:50-09:40\tMec2[cb]\tPC/O1[nd]\tProb[jd]\tRM1[as]\tPC1[bt]\n",
      "09:50-10:40\tProb[jd]\tPC/O1[nd]\tPC1[bt]\tRM1[as]\tPC1[bt]\n",
      "10:40-11:30\tProb[jd]\tPC/O1[nd]\tPC1[bt]\tMec2[cb]\tHC[]\n",
      "11:40-12:30\tRM1[as]\tPC/O1[nd]\tHC[]\tMec2[cb]\tHC[]\n",
      "12:30-13:20\tRM1[as]\tPC/O1[nd]\tHC[]\tMec2[cb]\tProbP[ds]\n",
      "13:20-14:10\tRM1[as]\t---\t---\t---\tProbP[ds]\n",
      "\n",
      " Grupo:  2TEL\n",
      "\tlun\tmar\tmie\tjue\tvie\n",
      "08:00-08:50\tRD1[gco,mjc,sb]\tHC[]\t---\tRD1[gco,mjc,sb]\tADAp[jcc]\n",
      "08:50-09:40\tRD1[gco,mjc,sb]\tHC[]\tProb[jk]\tRD1[gco,mjc,sb]\tADAp[jcc]\n",
      "09:50-10:40\tRD1[gco,mjc,sb]\tTIC1[nn]\tProb[jk]\tProbP[ds]\tTIC1[nn]\n",
      "10:40-11:30\tTCirc[ma]\tTIC1[nn]\tTCirc[ma]\tProbP[ds]\tTIC1[nn]\n",
      "11:40-12:30\tTCirc[ma]\tADA[jcc]\tTCirc[ma]\tHC[]\tProb[jk]\n",
      "12:30-13:20\tTCirc[ma]\tADA[jcc]\tTCirc[ma]\tHC[]\tProb[jk]\n",
      "13:20-14:10\t---\t---\t---\t---\t---\n",
      "\n",
      " Grupo:  2DIA\n",
      "\tlun\tmar\tmie\tjue\tvie\n",
      "08:00-08:50\tRD1[gco,mjc,sb]\tHC[]\t---\tRD1[gco,mjc,sb]\tADAp[jcc]\n",
      "08:50-09:40\tRD1[gco,mjc,sb]\tHC[]\tProb[jk]\tRD1[gco,mjc,sb]\tADAp[jcc]\n",
      "09:50-10:40\tRD1[gco,mjc,sb]\tTIC1[nn]\tProb[jk]\tProbP[ds]\tTIC1[nn]\n",
      "10:40-11:30\tTComp[dc]\tTIC1[nn]\tTComp[dc]\tProbP[ds]\tTIC1[nn]\n",
      "11:40-12:30\tTComp[dc]\tADA[jcc]\tTComp[dc]\tHC[]\tProb[jk]\n",
      "12:30-13:20\t---\tADA[jcc]\t---\tHC[]\tProb[jk]\n",
      "13:20-14:10\t---\t---\t---\t---\t---\n",
      "\n",
      " Grupo:  2INF\n",
      "\tlun\tmar\tmie\tjue\tvie\n",
      "08:00-08:50\t---\t---\tProb[mpe]\tProbP[ds]\tHC[]\n",
      "08:50-09:40\tADA[mbo]\tTComp[mf]\tProb[mpe]\tProbP[ds]\tHC[]\n",
      "09:50-10:40\tADA[mbo]\tTComp[mf]\tTIC1[nn]\tRD1[gco,mjc,sb]\tProb[mpe]\n",
      "10:40-11:30\tRD1[gco,mjc,sb]\tADAp[mbo]\tTIC1[nn]\tRD1[gco,mjc,sb]\tProb[mpe]\n",
      "11:40-12:30\tRD1[gco,mjc,sb]\tADAp[mbo]\tHC[]\tTComp[mf]\tTIC1[nn]\n",
      "12:30-13:20\tRD1[gco,mjc,sb]\t---\tHC[]\tTComp[mf]\tTIC1[nn]\n",
      "13:20-14:10\t---\t---\t---\t---\t---\n",
      "\n",
      " Grupo:  2LINF\n",
      "\tlun\tmar\tmie\tjue\tvie\n",
      "17:00-17:50\t---\t---\t---\t---\t---\n",
      "18:00-18:50\tDBD2[sgp]\tInProb[cp]\tISW1[apa]\tSO[hr]\t---\n",
      "18:50-19:40\tDBD2[sgp]\tInProb[cp]\tISW1[apa]\tSO[hr]\tISW1[apa]\n",
      "19:50-20:40\tDBD2[sgp]\tSO[hr]\tIO[ab]\tInProb[cp]\tISW1[apa]\n",
      "20:40-21:30\tIO[ab]\tSO[hr]\tIO[ab]\tInProb[cp]\tDBD2[sgp]\n",
      "21:40-22:30\tIO[ab]\tSO[hr]\t---\tInProb[cp]\tDBD2[sgp]\n"
     ]
    }
   ],
   "source": [
    "# # # IMPRIMIR PARA COPIAR EN HOJA DE EXCEL\n",
    "if not model.Status == GRB.INFEASIBLE:\n",
    "    print_timetable_excel(dias, horarios, u_dict, w_dict, grupos, anios, show_profs=True)"
   ]
  },
  {
   "cell_type": "code",
   "execution_count": 434,
   "metadata": {},
   "outputs": [
    {
     "name": "stdout",
     "output_type": "stream",
     "text": [
      "\n",
      " Profesor:  jd José Díaz\n",
      "\tlun\tmar\tmie\tjue\tvie\n",
      "08:00-08:50\t---\t---\tProb\t---\t---\n",
      "08:50-09:40\t---\t---\tProb\t---\t---\n",
      "09:50-10:40\tProb\t---\t---\t---\t---\n",
      "10:40-11:30\tProb\t---\t---\t---\t---\n",
      "\n",
      " Profesor:  jk Juan Kalemkerian\n",
      "\tlun\tmar\tmie\tjue\tvie\n",
      "08:50-09:40\t---\t---\tProb\t---\t---\n",
      "09:50-10:40\t---\t---\tProb\t---\t---\n",
      "11:40-12:30\t---\t---\t---\t---\tProb\n",
      "12:30-13:20\t---\t---\t---\t---\tProb\n",
      "\n",
      " Profesor:  mpe Mariana Pereira\n",
      "\tlun\tmar\tmie\tjue\tvie\n",
      "08:00-08:50\t---\t---\tProb\t---\t---\n",
      "08:50-09:40\t---\t---\tProb\t---\t---\n",
      "09:50-10:40\t---\t---\t---\t---\tProb\n",
      "10:40-11:30\t---\t---\t---\t---\tProb\n",
      "\n",
      " Profesor:  ds Débora Stalker\n",
      "\tlun\tmar\tmie\tjue\tvie\n",
      "08:00-08:50\t---\t---\t---\tProbP\t---\n",
      "08:50-09:40\t---\t---\t---\tProbP\t---\n",
      "09:50-10:40\t---\t---\t---\tProbP\t---\n",
      "10:40-11:30\t---\t---\t---\tProbP\t---\n",
      "12:30-13:20\t---\t---\t---\t---\tProbP\n",
      "13:20-14:10\t---\t---\t---\t---\tProbP\n",
      "\n",
      " Profesor:  jcc Juan Cruz Carrau\n",
      "\tlun\tmar\tmie\tjue\tvie\n",
      "08:00-08:50\t---\t---\t---\t---\tADAp\n",
      "08:50-09:40\t---\t---\t---\t---\tADAp\n",
      "11:40-12:30\t---\tADA\t---\t---\t---\n",
      "12:30-13:20\t---\tADA\t---\t---\t---\n",
      "\n",
      " Profesor:  mbo Mateo Borrazás\n",
      "\tlun\tmar\tmie\tjue\tvie\n",
      "08:50-09:40\tADA\t---\t---\t---\t---\n",
      "09:50-10:40\tADA\t---\t---\t---\t---\n",
      "10:40-11:30\t---\tADAp\t---\t---\t---\n",
      "11:40-12:30\t---\tADAp\t---\t---\t---\n",
      "\n",
      " Profesor:  nn Nicolás Navarro\n",
      "\tlun\tmar\tmie\tjue\tvie\n",
      "09:50-10:40\t---\tTIC1\tTIC1\t---\tTIC1\n",
      "10:40-11:30\t---\tTIC1\tTIC1\t---\tTIC1\n",
      "11:40-12:30\t---\t---\t---\t---\tTIC1\n",
      "12:30-13:20\t---\t---\t---\t---\tTIC1\n",
      "\n",
      " Profesor:  gco Gustavo Compagnone\n",
      "\tlun\tmar\tmie\tjue\tvie\n",
      "08:00-08:50\tRD1\t---\t---\tRD1\t---\n",
      "08:50-09:40\tRD1\t---\t---\tRD1\t---\n",
      "09:50-10:40\tRD1\t---\t---\tRD1\t---\n",
      "10:40-11:30\tRD1\t---\t---\tRD1\t---\n",
      "11:40-12:30\tRD1\t---\t---\t---\t---\n",
      "12:30-13:20\tRD1\t---\t---\t---\t---\n",
      "\n",
      " Profesor:  mjc María Jesús Cresci\n",
      "\tlun\tmar\tmie\tjue\tvie\n",
      "08:00-08:50\tRD1\t---\t---\tRD1\t---\n",
      "08:50-09:40\tRD1\t---\t---\tRD1\t---\n",
      "09:50-10:40\tRD1\t---\t---\tRD1\t---\n",
      "10:40-11:30\tRD1\t---\t---\tRD1\t---\n",
      "11:40-12:30\tRD1\t---\t---\t---\t---\n",
      "12:30-13:20\tRD1\t---\t---\t---\t---\n",
      "\n",
      " Profesor:  sb Santiago Blanco\n",
      "\tlun\tmar\tmie\tjue\tvie\n",
      "08:00-08:50\tRD1\t---\t---\tRD1\t---\n",
      "08:50-09:40\tRD1\t---\t---\tRD1\t---\n",
      "09:50-10:40\tRD1\t---\t---\tRD1\t---\n",
      "10:40-11:30\tRD1\t---\t---\tRD1\t---\n",
      "11:40-12:30\tRD1\t---\t---\t---\t---\n",
      "12:30-13:20\tRD1\t---\t---\t---\t---\n",
      "\n",
      " Profesor:  ma Marcelo Abreu\n",
      "\tlun\tmar\tmie\tjue\tvie\n",
      "10:40-11:30\tTCirc\t---\tTCirc\t---\t---\n",
      "11:40-12:30\tTCirc\t---\tTCirc\t---\t---\n",
      "12:30-13:20\tTCirc\t---\tTCirc\t---\t---\n",
      "\n",
      " Profesor:  dc Daniel Canoniero\n",
      "\tlun\tmar\tmie\tjue\tvie\n",
      "10:40-11:30\tTComp\t---\tTComp\t---\t---\n",
      "11:40-12:30\tTComp\t---\tTComp\t---\t---\n",
      "\n",
      " Profesor:  mf Marcelo Fontán\n",
      "\tlun\tmar\tmie\tjue\tvie\n",
      "08:50-09:40\t---\tTComp\t---\t---\t---\n",
      "09:50-10:40\t---\tTComp\t---\t---\t---\n",
      "11:40-12:30\t---\t---\t---\tTComp\t---\n",
      "12:30-13:20\t---\t---\t---\tTComp\t---\n",
      "\n",
      " Profesor:  cb Carlos Bastero\n",
      "\tlun\tmar\tmie\tjue\tvie\n",
      "08:00-08:50\tMec2\t---\t---\t---\t---\n",
      "08:50-09:40\tMec2\t---\t---\t---\t---\n",
      "10:40-11:30\t---\t---\t---\tMec2\t---\n",
      "11:40-12:30\t---\t---\t---\tMec2\t---\n",
      "12:30-13:20\t---\t---\t---\tMec2\t---\n",
      "\n",
      " Profesor:  as Adrián Santilli\n",
      "\tlun\tmar\tmie\tjue\tvie\n",
      "08:00-08:50\t---\t---\t---\tRM1\t---\n",
      "08:50-09:40\t---\t---\t---\tRM1\t---\n",
      "09:50-10:40\t---\t---\t---\tRM1\t---\n",
      "11:40-12:30\tRM1\t---\t---\t---\t---\n",
      "12:30-13:20\tRM1\t---\t---\t---\t---\n",
      "13:20-14:10\tRM1\t---\t---\t---\t---\n",
      "\n",
      " Profesor:  bt Bruno Tarocco\n",
      "\tlun\tmar\tmie\tjue\tvie\n",
      "08:00-08:50\t---\t---\t---\t---\tPC1\n",
      "08:50-09:40\t---\t---\t---\t---\tPC1\n",
      "09:50-10:40\t---\t---\tPC1\t---\tPC1\n",
      "10:40-11:30\t---\t---\tPC1\t---\t---\n",
      "\n",
      " Profesor:  nd Nelson Demarco\n",
      "\tlun\tmar\tmie\tjue\tvie\n",
      "08:00-08:50\t---\tPC/O1\t---\t---\t---\n",
      "08:50-09:40\t---\tPC/O1\t---\t---\t---\n",
      "09:50-10:40\t---\tPC/O1\t---\t---\t---\n",
      "10:40-11:30\t---\tPC/O1\t---\t---\t---\n",
      "11:40-12:30\t---\tPC/O1\t---\t---\t---\n",
      "12:30-13:20\t---\tPC/O1\t---\t---\t---\n",
      "\n",
      " Profesor:  hr Hernán Rohner\n",
      "\tlun\tmar\tmie\tjue\tvie\n",
      "18:00-18:50\t---\t---\t---\tSO\t---\n",
      "18:50-19:40\t---\t---\t---\tSO\t---\n",
      "19:50-20:40\t---\tSO\t---\t---\t---\n",
      "20:40-21:30\t---\tSO\t---\t---\t---\n",
      "21:40-22:30\t---\tSO\t---\t---\t---\n",
      "\n",
      " Profesor:  ab Alejandro Brubacher\n",
      "\tlun\tmar\tmie\tjue\tvie\n",
      "19:50-20:40\t---\t---\tIO\t---\t---\n",
      "20:40-21:30\tIO\t---\tIO\t---\t---\n",
      "21:40-22:30\tIO\t---\t---\t---\t---\n",
      "\n",
      " Profesor:  apa Arianne Palau\n",
      "\tlun\tmar\tmie\tjue\tvie\n",
      "18:00-18:50\t---\t---\tISW1\t---\t---\n",
      "18:50-19:40\t---\t---\tISW1\t---\tISW1\n",
      "19:50-20:40\t---\t---\t---\t---\tISW1\n",
      "\n",
      " Profesor:  sgp Sebastián García Parra\n",
      "\tlun\tmar\tmie\tjue\tvie\n",
      "18:00-18:50\tDBD2\t---\t---\t---\t---\n",
      "18:50-19:40\tDBD2\t---\t---\t---\t---\n",
      "19:50-20:40\tDBD2\t---\t---\t---\t---\n",
      "20:40-21:30\t---\t---\t---\t---\tDBD2\n",
      "21:40-22:30\t---\t---\t---\t---\tDBD2\n",
      "\n",
      " Profesor:  cp Carlos Presa\n",
      "\tlun\tmar\tmie\tjue\tvie\n",
      "18:00-18:50\t---\tInProb\t---\t---\t---\n",
      "18:50-19:40\t---\tInProb\t---\t---\t---\n",
      "19:50-20:40\t---\t---\t---\tInProb\t---\n",
      "20:40-21:30\t---\t---\t---\tInProb\t---\n",
      "21:40-22:30\t---\t---\t---\tInProb\t---\n"
     ]
    }
   ],
   "source": [
    "if not model.Status == GRB.INFEASIBLE:\n",
    "    print_prof_timetable_excel(dias, horarios, u_dict, w_dict, profesores, materias)"
   ]
  },
  {
   "cell_type": "markdown",
   "metadata": {},
   "source": [
    "## Estadísticas de resultados"
   ]
  },
  {
   "cell_type": "markdown",
   "metadata": {},
   "source": [
    "### Promedios de prioridad"
   ]
  },
  {
   "cell_type": "code",
   "execution_count": 435,
   "metadata": {},
   "outputs": [
    {
     "name": "stdout",
     "output_type": "stream",
     "text": [
      "123.0\n",
      "Promedio general de prioridad horaria:  1.0\n"
     ]
    }
   ],
   "source": [
    "# CARGA_HORARIA_TOTAL = gp.quicksum(m.carga_horaria for m in materias)\n",
    "CARGA_HORARIA_TOTAL = gp.quicksum(u_dict[m, b].variable * w_dict[m, p].variable for p in profesores_ids for m in materias_ids for b in bloques_horario_ids)\n",
    "\n",
    "if not model.Status == GRB.INFEASIBLE:\n",
    "    for obj, _ in [objectives[\"prioridades\"]]:\n",
    "        print(obj.getValue())\n",
    "        print(\"Promedio general de prioridad horaria: \", obj.getValue()/CARGA_HORARIA_TOTAL.getValue())\n",
    "          \n",
    "\n",
    "# print(\"Casos de materias con dias consecutivos: \", int(OBJ2.getValue()/10))\n"
   ]
  },
  {
   "cell_type": "code",
   "execution_count": 436,
   "metadata": {},
   "outputs": [
    {
     "name": "stdout",
     "output_type": "stream",
     "text": [
      "jd \t 4 \t 1.0\n",
      "jk \t 4 \t 1.0\n",
      "mpe \t 4 \t 1.0\n",
      "ds \t 6 \t 1.0\n",
      "jcc \t 4 \t 1.0\n",
      "mbo \t 4 \t 1.0\n",
      "nn \t 8 \t 1.0\n",
      "gco \t 10 \t 1.0\n",
      "mjc \t 10 \t 1.0\n",
      "sb \t 10 \t 1.0\n",
      "ma \t 6 \t 1.0\n",
      "dc \t 4 \t 1.0\n",
      "mf \t 4 \t 1.0\n",
      "cb \t 5 \t 1.0\n",
      "as \t 6 \t 1.0\n",
      "bt \t 5 \t 1.0\n",
      "nd \t 6 \t 1.0\n",
      "hr \t 5 \t 1.0\n",
      "ab \t 4 \t 1.0\n",
      "apa \t 4 \t 1.0\n",
      "sgp \t 5 \t 1.0\n",
      "cp \t 5 \t 1.0\n"
     ]
    }
   ],
   "source": [
    "# promedio por profesor:\n",
    "\"\"\"\n",
    "This script calculates and prints the average workload per professor based on their assigned priorities and time blocks.\n",
    "Variables:\n",
    "    profesores (list): List of professor objects, each containing their priorities.\n",
    "    y_dict (dict): Dictionary mapping professor IDs and time block IDs to Gurobi variables.\n",
    "    bloques_horario_ids (list): List of time block IDs.\n",
    "For each professor in the list `profesores`, the script performs the following steps:\n",
    "1. Initializes a quadratic expression `OBJ_p` to accumulate the weighted priorities.\n",
    "2. Iterates over the professor's priorities to update `OBJ_p` based on the priority value and corresponding Gurobi variable.\n",
    "3. Calculates the total workload `CARGA_HORARIA_p` for the professor by summing the relevant Gurobi variables.\n",
    "4. If the total workload is non-zero, it prints the professor's name, total workload, and the rounded average priority value per workload unit.\n",
    "5. If the total workload is zero, it prints the professor's name and indicates that they have no workload.\n",
    "\n",
    "\"\"\"\n",
    "if not model.Status == GRB.INFEASIBLE:\n",
    "    for p in profesores:\n",
    "\n",
    "        OBJ_p = gp.QuadExpr()\n",
    "        # for m in materias:\n",
    "        #     for pr in p.prioridades:\n",
    "        #             b = pr.bloque_horario\n",
    "        #             A = pr.value\n",
    "        #             OBJ_p += A * w_dict[m.id, p.id].variable * u_dict[m.id, b.id].variable\n",
    "\n",
    "        for pr in p.prioridades:\n",
    "            b = pr.bloque_horario\n",
    "            A = pr.value\n",
    "            OBJ_p += A * y_dict[p.id, b.id].variable\n",
    "        \n",
    "        # CARGA_HORARIA_p = gp.quicksum(u_dict[m, b].variable * w_dict[m, p.id].variable for m in materias_ids for b in bloques_horario_ids).getValue()\n",
    "        CARGA_HORARIA_p = round(gp.quicksum(y_dict[p.id, b].variable for b in bloques_horario_ids).getValue())\n",
    "\n",
    "        if CARGA_HORARIA_p != 0:\n",
    "            print(str(p), \"\\t\", CARGA_HORARIA_p, \"\\t\", round(round(OBJ_p.getValue())/CARGA_HORARIA_p,3))\n",
    "        else:\n",
    "            print(str(p), \"sin carga horaria\")\n",
    "\n",
    "    \n"
   ]
  },
  {
   "cell_type": "code",
   "execution_count": 437,
   "metadata": {},
   "outputs": [],
   "source": [
    "# # DIAS CLASE POR PROFESOR\n",
    "\n",
    "# print(\"DIAS CON CLASE\")\n",
    "# for p in profesores:\n",
    "#     if p.min_max_dias is not None:\n",
    "#         print(str(p), \": \", round(DP[p.id].getValue()), p.min_max_dias)"
   ]
  },
  {
   "cell_type": "code",
   "execution_count": 438,
   "metadata": {},
   "outputs": [],
   "source": [
    "# PROFESORES CON DISPONIBILIDAD LIMITADA\n",
    "\n",
    "# for p in profesores:\n",
    "        \n",
    "#     suma_pr = 0\n",
    "#     carga_horaria = 0\n",
    "    \n",
    "#     for pr in p.prioridades:\n",
    "#         suma_pr = suma_pr + 1 if pr.value > 0 else suma_pr\n",
    "\n",
    "#     for m in p.lista_materias:\n",
    "#         try:\n",
    "#             horas = search_materias_by_nombre(materias, m[\"nombre_materia\"])[0].carga_horaria\n",
    "#             grupos_max = m[\"grupos_max\"]\n",
    "#             carga_horaria += horas*grupos_max\n",
    "#         except:\n",
    "#             continue\n",
    "\n",
    "#     if carga_horaria > 0:\n",
    "#         margen = int((suma_pr/carga_horaria-1)*100)\n",
    "\n",
    "#         if margen < 250:\n",
    "#             print('----------------------')\n",
    "#             print(str(p), p.nombre_completo)\n",
    "#             print(\"disponibilidad:\", suma_pr)\n",
    "#             print(\"carga horaria:\", carga_horaria)\n",
    "#             print(\"margen:\", margen, \"%\")\n",
    "\n",
    "\n"
   ]
  },
  {
   "cell_type": "code",
   "execution_count": 439,
   "metadata": {},
   "outputs": [],
   "source": [
    "# HORAS PUENTE\n",
    "\n",
    "# HP = gp.QuadExpr()\n",
    "# for g in grupos_reales:\n",
    "#     HPg = gp.QuadExpr()\n",
    "#     for d in dias_ids:\n",
    "#         HPg += gp.quicksum(x_dict[(g.id,(d,h))].variable for h in horarios_ids)\n",
    "#         HPg += - gp.quicksum(x_dict[(g.id,(d,h))].variable * x_dict[(g.id,(d,h+1))].variable for h in horarios_ids[0:-1])\n",
    "#         HPg += - 1\n",
    "#     # print(\"horas puente grupo\", str(g), \": \", HPg.getValue())\n",
    "#     HP += HPg\n",
    "\n",
    "# print(\"Total de horas puente: \", HP.getValue())"
   ]
  },
  {
   "cell_type": "markdown",
   "metadata": {},
   "source": [
    "#### Distribucion de prioridades"
   ]
  },
  {
   "cell_type": "code",
   "execution_count": 440,
   "metadata": {},
   "outputs": [
    {
     "name": "stdout",
     "output_type": "stream",
     "text": [
      "{1: 1760, 2: 0, 3: 0}\n",
      "1: 100%, 2: 0%, 3: 0%\n",
      "{1: 123, 2: 0, 3: 0}\n",
      "1: 100%, 2: 0%, 3: 0%\n"
     ]
    }
   ],
   "source": [
    "# distribucion de prioridades\n",
    "\"\"\"\n",
    "This script calculates and prints the distribution of priorities and their averages for a given set of professors and their time block priorities.\n",
    "Variables:\n",
    "    promedios_prioridad (dict): A dictionary to store the average priority values for each priority level.\n",
    "    valores_prioridad (dict): A dictionary to store the count of each priority level.\n",
    "    profesores (list): A list of professor objects, each containing their priority information.\n",
    "    y_dict (dict): A dictionary containing the decision variables for the optimization model.\n",
    "Process:\n",
    "1. Initialize dictionaries to store priority averages and counts.\n",
    "2. Iterate over each professor and their priorities:\n",
    "    - Skip if the priority value is 0.\n",
    "    - Increment the count for the given priority value.\n",
    "    - Update the average priority value based on the decision variable.\n",
    "3. Print the count and percentage distribution of each priority level.\n",
    "4. Print the average priority values and their percentage distribution.\n",
    "\n",
    "\"\"\"\n",
    "\n",
    "if not model.Status == GRB.INFEASIBLE:\n",
    "    promedios_prioridad = {}\n",
    "    valores_prioridad = {}\n",
    "    for i in range(1,4):\n",
    "        promedios_prioridad[i] = 0\n",
    "        valores_prioridad[i] = 0\n",
    "\n",
    "    for p in profesores:\n",
    "        for pr in p.prioridades:\n",
    "            b = pr.bloque_horario\n",
    "            A = pr.value\n",
    "            if A == 0:\n",
    "                continue\n",
    "            valores_prioridad[A] += 1\n",
    "            # for m in materias:\n",
    "            #     promedios_prioridad[A] += round(w_dict[m.id, p.id].variable.X * u_dict[m.id, b.id].variable.X)\n",
    "            promedios_prioridad[A] += round(y_dict[p.id, b.id].variable.X)\n",
    "\n",
    "    print(valores_prioridad)\n",
    "    total = np.sum([valores_prioridad[i] for i in valores_prioridad])\n",
    "    print(*[str(i) + \": \" + str(round(valores_prioridad[i]/total*100))+\"%\" for i in valores_prioridad], sep=\", \")\n",
    "\n",
    "    print(promedios_prioridad)\n",
    "    total = np.sum([promedios_prioridad[i] for i in promedios_prioridad])\n",
    "    if total != 0:\n",
    "        print(*[str(i) + \": \" + str(round(promedios_prioridad[i]/total*100))+\"%\" for i in promedios_prioridad], sep=\", \")\n",
    "        \n",
    "        # CARGA_HORARIA_p = gp.quicksum(u_dict[m, b].variable * w_dict[m, p.id].variable for m in materias_ids for b in bloques_horario_ids).getValue()\n",
    "\n",
    "        # if CARGA_HORARIA_p != 0:\n",
    "        #     print(str(p), \": \", OBJ_p.getValue()/CARGA_HORARIA_p)\n",
    "        # else:\n",
    "        #     print(str(p), \"sin carga horaria\")"
   ]
  },
  {
   "cell_type": "markdown",
   "metadata": {},
   "source": [
    "### Resultados superposicion de electivas"
   ]
  },
  {
   "cell_type": "code",
   "execution_count": 441,
   "metadata": {},
   "outputs": [],
   "source": [
    "if not model.Status == GRB.INFEASIBLE:\n",
    "    res_super_electivas = {}\n",
    "\n",
    "    for g in grupos:\n",
    "        ms = [e for e in electivas(materias) if g in [g for g in e.grupos]]\n",
    "        if len(ms) > 0:\n",
    "            print(g)\n",
    "            res_super_electivas[g.id] = {}\n",
    "        for m1 in ms:\n",
    "            # print('\\t', m1)\n",
    "            for m2 in [m for m in ms if m1.nombre != m.nombre]:\n",
    "                suma = np.sum([round(u_dict[m1.id, b].variable.x) * round(u_dict[m2.id, b].variable.x) for b in bloques_horario_ids])\n",
    "                # print('\\t\\t', m2, sum)\n",
    "                if (m1.nombre, m2.nombre) not in res_super_electivas[g.id]:\n",
    "                    res_super_electivas[g.id][m1.nombre, m2.nombre] = suma\n",
    "                else:\n",
    "                    res_super_electivas[g.id][m1.nombre, m2.nombre] += suma\n",
    "        \n",
    "        nombres = set(m.nombre for m in ms)\n",
    "        for m1 in nombres:\n",
    "            print('\\t', m1)\n",
    "            for m2 in [m for m in nombres if m1 != m]:\n",
    "                print('\\t\\t', m2, res_super_electivas[g.id][m1, m2])\n"
   ]
  },
  {
   "cell_type": "markdown",
   "metadata": {},
   "source": [
    "#### Conjuntos de electivas compatibles"
   ]
  },
  {
   "cell_type": "code",
   "execution_count": 442,
   "metadata": {},
   "outputs": [],
   "source": [
    "# # CONJUNTOS DE ELECTIVAS COMPATIBLES\n",
    "\n",
    "# import itertools\n",
    "\n",
    "# def find_subsets(ms, res_super_electivas_g):\n",
    "#     # Generate all possible subsets of the array ms\n",
    "#     subsets = []\n",
    "#     for r in range(1, len(ms) + 1):\n",
    "#         subsets.extend(list(itertools.combinations(ms, r)))\n",
    "    \n",
    "#     # Filter subsets to only include those with dictionary value 0 between all of them\n",
    "#     valid_subsets = []\n",
    "#     for subset in subsets:\n",
    "#         valid = True\n",
    "#         for m1, m2 in itertools.combinations(subset, 2):\n",
    "#             if res_super_electivas_g.get((m1, m2), None) != 0:\n",
    "#                 valid = False\n",
    "#                 break\n",
    "#         if valid:\n",
    "#             valid_subsets.append(subset)\n",
    "    \n",
    "#     return valid_subsets\n",
    "\n",
    "# # for g in grupos:\n",
    "# #     ms = set(e.nombre for e in elecs if g in [g for g in e.grupos])\n",
    "# #     if len(ms) > 0:\n",
    "# #         print(g)\n",
    "# #         for s in find_subsets(ms, res_super_electivas[g.id]):\n",
    "# #             print('\\t', [m for m in s])\n",
    "\n",
    "# for g in grupos:\n",
    "#     ms = set(e.nombre for e in electivas(materias) if g in [g for g in e.grupos])\n",
    "#     if len(ms) > 0:\n",
    "#         print(g)\n",
    "#         subsets = find_subsets(ms, res_super_electivas[g.id])\n",
    "#         for m in ms:\n",
    "#             s_max = [m]\n",
    "#             for s in [s for s in subsets if m in s]:\n",
    "#                 if len(s) > len(s_max):\n",
    "#                     s_max = s\n",
    "#             print('\\t', m, [mi for mi in s if mi != m])\n",
    "\n",
    "#         # for s in subsets:\n",
    "#         #     print('\\t', [m for m in s])\n"
   ]
  },
  {
   "cell_type": "code",
   "execution_count": 443,
   "metadata": {},
   "outputs": [],
   "source": [
    "# def include_mat(set, m):\n",
    "#     include = True\n",
    "#     for mprev in set:\n",
    "#         if m != mprev and res_super_electivas[m.id, mprev.id] != 0:\n",
    "#             include = False\n",
    "#             break\n",
    "#     return include\n",
    "\n",
    "# def update_set(set, ms):\n",
    "#     sets = []\n",
    "    \n",
    "#     if len(ms) == 0:\n",
    "#         return [set]\n",
    "    \n",
    "#     # if len(ms) == 1:\n",
    "#     for mi in ms:\n",
    "#         if include_mat(set, mi):\n",
    "#             sets += update_set(set + [mi], ms[1:])\n",
    "#             print(*ms[1:])\n",
    "#         else:\n",
    "#             sets += set\n",
    "\n",
    "#     # else:\n",
    "#     #     if include_mat(set, mi):\n",
    "#     #         sets += update_set(set + [m1], ms[1:])\n",
    "#     #     sets += update_set(set, ms[1:])                \n",
    "#     return sets\n",
    "        \n",
    "        \n",
    "# for g in grupos:\n",
    "#     ms = [e for e in elecs if g in [g for g in e.grupos]]\n",
    "#     for m1 in ms:\n",
    "#         sets_posibles += update_set([m1], [m for m in ms if m != m1])\n",
    "\n",
    "\n",
    "#     # update_set(sets_posibles, ms)\n",
    "\n"
   ]
  },
  {
   "cell_type": "markdown",
   "metadata": {},
   "source": [
    "### Ocupacion de salones"
   ]
  },
  {
   "cell_type": "code",
   "execution_count": 444,
   "metadata": {},
   "outputs": [
    {
     "name": "stdout",
     "output_type": "stream",
     "text": [
      "\t\tlun\tmar\tmie\tjue\tvie\n",
      "··········································································································\n",
      "08:00-08:50\t15%\t15%\t15%\t23%\t23%\n",
      "08:50-09:40\t23%\t23%\t23%\t23%\t23%\n",
      "09:50-10:40\t23%\t23%\t23%\t23%\t23%\n",
      "10:40-11:30\t30%\t23%\t30%\t23%\t23%\n",
      "11:40-12:30\t30%\t23%\t30%\t23%\t23%\n",
      "12:30-13:20\t23%\t15%\t23%\t23%\t23%\n",
      "13:20-14:10\t7%\t0%\t0%\t0%\t7%\n",
      "14:10-15:00\t0%\t0%\t0%\t0%\t0%\n",
      "15:10-16:00\t0%\t0%\t0%\t0%\t0%\n",
      "16:10-17:00\t0%\t0%\t0%\t0%\t0%\n",
      "17:00-17:50\t0%\t0%\t0%\t0%\t0%\n",
      "18:00-18:50\t7%\t7%\t7%\t7%\t0%\n",
      "18:50-19:40\t7%\t7%\t7%\t7%\t7%\n",
      "19:50-20:40\t7%\t7%\t7%\t7%\t7%\n",
      "20:40-21:30\t7%\t7%\t7%\t7%\t7%\n",
      "21:40-22:30\t7%\t7%\t0%\t7%\t7%\n"
     ]
    }
   ],
   "source": [
    "# nivel de ocupacion\n",
    "if not model.Status == GRB.INFEASIBLE:\n",
    "    niveles = {}\n",
    "\n",
    "    for b_id in bloques_horario:\n",
    "        salones_ocupados = int(gp.quicksum(u_dict[m, b_id].variable for m in materias_ids).getValue())\n",
    "        nivel = int(salones_ocupados/K*100)\n",
    "        # print(str(bloques_horario[b_id]), \": \", salones_ocupados,\",\", str(nivel) + \"%\")\n",
    "        niveles[b_id] = nivel\n",
    "\n",
    "    print_timetable_salones(dias, horarios, niveles)"
   ]
  },
  {
   "cell_type": "code",
   "execution_count": 445,
   "metadata": {},
   "outputs": [
    {
     "name": "stdout",
     "output_type": "stream",
     "text": [
      "Warning: variable name \"Prob(1, 0)jd_uw\" has a space\n",
      "Warning: Q constraint 0 doesn't have a name\n",
      "Warning: to let Gurobi read it back, use rlp format\n",
      "Warning: variable name \"Prob(1, 0)jd_uw\" has a space\n",
      "Warning: Q constraint 0 doesn't have a name\n",
      "Warning: default variable names used to write mps file\n",
      "Warning: default Q constraint names used to write mps file\n"
     ]
    }
   ],
   "source": [
    "model.write('timetable_opt.lp')\n",
    "model.write('timetable_opt.mps')\n"
   ]
  }
 ],
 "metadata": {
  "kernelspec": {
   "display_name": "Python 3",
   "language": "python",
   "name": "python3"
  },
  "language_info": {
   "codemirror_mode": {
    "name": "ipython",
    "version": 3
   },
   "file_extension": ".py",
   "mimetype": "text/x-python",
   "name": "python",
   "nbconvert_exporter": "python",
   "pygments_lexer": "ipython3",
   "version": "3.12.2"
  }
 },
 "nbformat": 4,
 "nbformat_minor": 2
}
